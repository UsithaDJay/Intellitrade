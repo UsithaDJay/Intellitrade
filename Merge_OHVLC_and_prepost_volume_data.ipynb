{
 "cells": [
  {
   "cell_type": "code",
   "execution_count": null,
   "metadata": {},
   "outputs": [],
   "source": [
    "import pandas as pd\n",
    "\n",
    "# Folder roots\n",
    "ohvlc_data_root = \"./OHVLC_data/\"\n",
    "pre_post_volume_data_root = \"./Pre_Post_Volume_data/\"\n",
    "\n",
    "# Load the datasets\n",
    "file1 = \"/mnt/data/AAPL_OHVLC_1d_prepost_False.csv\"\n",
    "file2 = \"/mnt/data/AAPL_prepost_volume.csv\"\n",
    "\n",
    "df1 = pd.read_csv(file1)\n",
    "df2 = pd.read_csv(file2)\n",
    "\n",
    "# Check the common date column name\n",
    "print(df1.columns)\n",
    "print(df2.columns)\n",
    "\n",
    "# Assuming the date column is named 'Date' in both files\n",
    "df1['Date'] = pd.to_datetime(df1['Date'])\n",
    "df2['Date'] = pd.to_datetime(df2['Date'])\n",
    "\n",
    "# Merge data on 'Date', keeping all dates from both datasets\n",
    "merged_df = pd.merge(df1, df2, on=\"Date\", how=\"outer\")\n",
    "\n",
    "# Save the merged DataFrame\n",
    "merged_file = \"/mnt/data/merged_data.csv\"\n",
    "merged_df.to_csv(merged_file, index=False)\n",
    "\n",
    "print(f\"Merged file saved at: {merged_file}\")\n"
   ]
  }
 ],
 "metadata": {
  "kernelspec": {
   "display_name": "base",
   "language": "python",
   "name": "python3"
  },
  "language_info": {
   "name": "python",
   "version": "3.11.5"
  }
 },
 "nbformat": 4,
 "nbformat_minor": 2
}
