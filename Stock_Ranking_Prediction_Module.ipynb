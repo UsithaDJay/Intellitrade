{
 "cells": [
  {
   "cell_type": "code",
   "execution_count": 1,
   "metadata": {},
   "outputs": [],
   "source": [
    "import pandas as pd\n",
    "from sklearn.preprocessing import StandardScaler"
   ]
  },
  {
   "cell_type": "code",
   "execution_count": 2,
   "metadata": {},
   "outputs": [
    {
     "data": {
      "text/html": [
       "<div>\n",
       "<style scoped>\n",
       "    .dataframe tbody tr th:only-of-type {\n",
       "        vertical-align: middle;\n",
       "    }\n",
       "\n",
       "    .dataframe tbody tr th {\n",
       "        vertical-align: top;\n",
       "    }\n",
       "\n",
       "    .dataframe thead th {\n",
       "        text-align: right;\n",
       "    }\n",
       "</style>\n",
       "<table border=\"1\" class=\"dataframe\">\n",
       "  <thead>\n",
       "    <tr style=\"text-align: right;\">\n",
       "      <th></th>\n",
       "      <th>SYM_ROOT</th>\n",
       "      <th>DATE</th>\n",
       "      <th>pre_market_volume</th>\n",
       "      <th>post_market_volume</th>\n",
       "      <th>DAY_OF_WEEK</th>\n",
       "      <th>OPEN</th>\n",
       "      <th>HIGH</th>\n",
       "      <th>LOW</th>\n",
       "      <th>CLOSE</th>\n",
       "      <th>VOLUME</th>\n",
       "      <th>DIFF_O&amp;C</th>\n",
       "      <th>DIFF_H&amp;L</th>\n",
       "      <th>PREV_POST_MARKET_VOLUME</th>\n",
       "    </tr>\n",
       "  </thead>\n",
       "  <tbody>\n",
       "    <tr>\n",
       "      <th>0</th>\n",
       "      <td>AAPL</td>\n",
       "      <td>2019-01-03</td>\n",
       "      <td>8702037.0</td>\n",
       "      <td>9788893.0</td>\n",
       "      <td>Thursday</td>\n",
       "      <td>34.379961</td>\n",
       "      <td>34.795445</td>\n",
       "      <td>33.907172</td>\n",
       "      <td>33.952541</td>\n",
       "      <td>365248800.0</td>\n",
       "      <td>-0.427420</td>\n",
       "      <td>0.888273</td>\n",
       "      <td>10818374.0</td>\n",
       "    </tr>\n",
       "    <tr>\n",
       "      <th>1</th>\n",
       "      <td>AAPL</td>\n",
       "      <td>2019-01-04</td>\n",
       "      <td>3011205.0</td>\n",
       "      <td>9747041.0</td>\n",
       "      <td>Friday</td>\n",
       "      <td>34.511292</td>\n",
       "      <td>35.471200</td>\n",
       "      <td>34.336981</td>\n",
       "      <td>35.401951</td>\n",
       "      <td>234428400.0</td>\n",
       "      <td>0.890659</td>\n",
       "      <td>1.134219</td>\n",
       "      <td>9788893.0</td>\n",
       "    </tr>\n",
       "    <tr>\n",
       "      <th>2</th>\n",
       "      <td>AAPL</td>\n",
       "      <td>2019-01-07</td>\n",
       "      <td>1613404.0</td>\n",
       "      <td>6495477.0</td>\n",
       "      <td>Monday</td>\n",
       "      <td>35.507018</td>\n",
       "      <td>35.538061</td>\n",
       "      <td>34.838425</td>\n",
       "      <td>35.323154</td>\n",
       "      <td>219111200.0</td>\n",
       "      <td>-0.183864</td>\n",
       "      <td>0.699636</td>\n",
       "      <td>9747041.0</td>\n",
       "    </tr>\n",
       "    <tr>\n",
       "      <th>3</th>\n",
       "      <td>AAPL</td>\n",
       "      <td>2019-01-08</td>\n",
       "      <td>1997698.0</td>\n",
       "      <td>5557865.0</td>\n",
       "      <td>Tuesday</td>\n",
       "      <td>35.712369</td>\n",
       "      <td>36.252020</td>\n",
       "      <td>35.464036</td>\n",
       "      <td>35.996521</td>\n",
       "      <td>164101200.0</td>\n",
       "      <td>0.284152</td>\n",
       "      <td>0.787984</td>\n",
       "      <td>6495477.0</td>\n",
       "    </tr>\n",
       "    <tr>\n",
       "      <th>4</th>\n",
       "      <td>AAPL</td>\n",
       "      <td>2019-01-09</td>\n",
       "      <td>2461012.0</td>\n",
       "      <td>4722655.0</td>\n",
       "      <td>Wednesday</td>\n",
       "      <td>36.125457</td>\n",
       "      <td>36.899115</td>\n",
       "      <td>35.729080</td>\n",
       "      <td>36.607800</td>\n",
       "      <td>180396400.0</td>\n",
       "      <td>0.482342</td>\n",
       "      <td>1.170035</td>\n",
       "      <td>5557865.0</td>\n",
       "    </tr>\n",
       "  </tbody>\n",
       "</table>\n",
       "</div>"
      ],
      "text/plain": [
       "  SYM_ROOT        DATE  pre_market_volume  post_market_volume DAY_OF_WEEK  \\\n",
       "0     AAPL  2019-01-03          8702037.0           9788893.0    Thursday   \n",
       "1     AAPL  2019-01-04          3011205.0           9747041.0      Friday   \n",
       "2     AAPL  2019-01-07          1613404.0           6495477.0      Monday   \n",
       "3     AAPL  2019-01-08          1997698.0           5557865.0     Tuesday   \n",
       "4     AAPL  2019-01-09          2461012.0           4722655.0   Wednesday   \n",
       "\n",
       "        OPEN       HIGH        LOW      CLOSE       VOLUME  DIFF_O&C  \\\n",
       "0  34.379961  34.795445  33.907172  33.952541  365248800.0 -0.427420   \n",
       "1  34.511292  35.471200  34.336981  35.401951  234428400.0  0.890659   \n",
       "2  35.507018  35.538061  34.838425  35.323154  219111200.0 -0.183864   \n",
       "3  35.712369  36.252020  35.464036  35.996521  164101200.0  0.284152   \n",
       "4  36.125457  36.899115  35.729080  36.607800  180396400.0  0.482342   \n",
       "\n",
       "   DIFF_H&L  PREV_POST_MARKET_VOLUME  \n",
       "0  0.888273               10818374.0  \n",
       "1  1.134219                9788893.0  \n",
       "2  0.699636                9747041.0  \n",
       "3  0.787984                6495477.0  \n",
       "4  1.170035                5557865.0  "
      ]
     },
     "execution_count": 2,
     "metadata": {},
     "output_type": "execute_result"
    }
   ],
   "source": [
    "# Load data\n",
    "df = pd.read_csv('./Merged_data/AAPL.csv')\n",
    "df.head()"
   ]
  },
  {
   "cell_type": "code",
   "execution_count": 3,
   "metadata": {},
   "outputs": [
    {
     "data": {
      "text/html": [
       "<div>\n",
       "<style scoped>\n",
       "    .dataframe tbody tr th:only-of-type {\n",
       "        vertical-align: middle;\n",
       "    }\n",
       "\n",
       "    .dataframe tbody tr th {\n",
       "        vertical-align: top;\n",
       "    }\n",
       "\n",
       "    .dataframe thead th {\n",
       "        text-align: right;\n",
       "    }\n",
       "</style>\n",
       "<table border=\"1\" class=\"dataframe\">\n",
       "  <thead>\n",
       "    <tr style=\"text-align: right;\">\n",
       "      <th></th>\n",
       "      <th>SYM_ROOT</th>\n",
       "      <th>DATE</th>\n",
       "      <th>pre_market_volume</th>\n",
       "      <th>post_market_volume</th>\n",
       "      <th>DAY_OF_WEEK</th>\n",
       "      <th>OPEN</th>\n",
       "      <th>HIGH</th>\n",
       "      <th>LOW</th>\n",
       "      <th>CLOSE</th>\n",
       "      <th>VOLUME</th>\n",
       "      <th>DIFF_O&amp;C</th>\n",
       "      <th>DIFF_H&amp;L</th>\n",
       "      <th>PREV_POST_MARKET_VOLUME</th>\n",
       "    </tr>\n",
       "  </thead>\n",
       "  <tbody>\n",
       "    <tr>\n",
       "      <th>0</th>\n",
       "      <td>AAPL</td>\n",
       "      <td>2019-01-03</td>\n",
       "      <td>4.131819</td>\n",
       "      <td>9788893.0</td>\n",
       "      <td>Thursday</td>\n",
       "      <td>34.379961</td>\n",
       "      <td>34.795445</td>\n",
       "      <td>33.907172</td>\n",
       "      <td>33.952541</td>\n",
       "      <td>365248800.0</td>\n",
       "      <td>-0.427420</td>\n",
       "      <td>0.888273</td>\n",
       "      <td>1.758289</td>\n",
       "    </tr>\n",
       "    <tr>\n",
       "      <th>1</th>\n",
       "      <td>AAPL</td>\n",
       "      <td>2019-01-04</td>\n",
       "      <td>0.823094</td>\n",
       "      <td>9747041.0</td>\n",
       "      <td>Friday</td>\n",
       "      <td>34.511292</td>\n",
       "      <td>35.471200</td>\n",
       "      <td>34.336981</td>\n",
       "      <td>35.401951</td>\n",
       "      <td>234428400.0</td>\n",
       "      <td>0.890659</td>\n",
       "      <td>1.134219</td>\n",
       "      <td>1.370267</td>\n",
       "    </tr>\n",
       "    <tr>\n",
       "      <th>2</th>\n",
       "      <td>AAPL</td>\n",
       "      <td>2019-01-07</td>\n",
       "      <td>0.010394</td>\n",
       "      <td>6495477.0</td>\n",
       "      <td>Monday</td>\n",
       "      <td>35.507018</td>\n",
       "      <td>35.538061</td>\n",
       "      <td>34.838425</td>\n",
       "      <td>35.323154</td>\n",
       "      <td>219111200.0</td>\n",
       "      <td>-0.183864</td>\n",
       "      <td>0.699636</td>\n",
       "      <td>1.354492</td>\n",
       "    </tr>\n",
       "    <tr>\n",
       "      <th>3</th>\n",
       "      <td>AAPL</td>\n",
       "      <td>2019-01-08</td>\n",
       "      <td>0.233827</td>\n",
       "      <td>5557865.0</td>\n",
       "      <td>Tuesday</td>\n",
       "      <td>35.712369</td>\n",
       "      <td>36.252020</td>\n",
       "      <td>35.464036</td>\n",
       "      <td>35.996521</td>\n",
       "      <td>164101200.0</td>\n",
       "      <td>0.284152</td>\n",
       "      <td>0.787984</td>\n",
       "      <td>0.128943</td>\n",
       "    </tr>\n",
       "    <tr>\n",
       "      <th>4</th>\n",
       "      <td>AAPL</td>\n",
       "      <td>2019-01-09</td>\n",
       "      <td>0.503204</td>\n",
       "      <td>4722655.0</td>\n",
       "      <td>Wednesday</td>\n",
       "      <td>36.125457</td>\n",
       "      <td>36.899115</td>\n",
       "      <td>35.729080</td>\n",
       "      <td>36.607800</td>\n",
       "      <td>180396400.0</td>\n",
       "      <td>0.482342</td>\n",
       "      <td>1.170035</td>\n",
       "      <td>-0.224453</td>\n",
       "    </tr>\n",
       "  </tbody>\n",
       "</table>\n",
       "</div>"
      ],
      "text/plain": [
       "  SYM_ROOT        DATE  pre_market_volume  post_market_volume DAY_OF_WEEK  \\\n",
       "0     AAPL  2019-01-03           4.131819           9788893.0    Thursday   \n",
       "1     AAPL  2019-01-04           0.823094           9747041.0      Friday   \n",
       "2     AAPL  2019-01-07           0.010394           6495477.0      Monday   \n",
       "3     AAPL  2019-01-08           0.233827           5557865.0     Tuesday   \n",
       "4     AAPL  2019-01-09           0.503204           4722655.0   Wednesday   \n",
       "\n",
       "        OPEN       HIGH        LOW      CLOSE       VOLUME  DIFF_O&C  \\\n",
       "0  34.379961  34.795445  33.907172  33.952541  365248800.0 -0.427420   \n",
       "1  34.511292  35.471200  34.336981  35.401951  234428400.0  0.890659   \n",
       "2  35.507018  35.538061  34.838425  35.323154  219111200.0 -0.183864   \n",
       "3  35.712369  36.252020  35.464036  35.996521  164101200.0  0.284152   \n",
       "4  36.125457  36.899115  35.729080  36.607800  180396400.0  0.482342   \n",
       "\n",
       "   DIFF_H&L  PREV_POST_MARKET_VOLUME  \n",
       "0  0.888273                 1.758289  \n",
       "1  1.134219                 1.370267  \n",
       "2  0.699636                 1.354492  \n",
       "3  0.787984                 0.128943  \n",
       "4  1.170035                -0.224453  "
      ]
     },
     "execution_count": 3,
     "metadata": {},
     "output_type": "execute_result"
    }
   ],
   "source": [
    "# Scale volume features (only PREV_POST_MARKET_VOLUME and pre_market_volume)\n",
    "scaler = StandardScaler()\n",
    "volume_cols = ['PREV_POST_MARKET_VOLUME', 'pre_market_volume']\n",
    "df[volume_cols] = scaler.fit_transform(df[volume_cols])\n",
    "\n",
    "df.head()"
   ]
  },
  {
   "cell_type": "code",
   "execution_count": 4,
   "metadata": {},
   "outputs": [
    {
     "data": {
      "text/plain": [
       "Index(['SYM_ROOT', 'DATE', 'pre_market_volume', 'post_market_volume',\n",
       "       'DAY_OF_WEEK', 'OPEN', 'HIGH', 'LOW', 'CLOSE', 'VOLUME', 'DIFF_O&C',\n",
       "       'DIFF_H&L', 'PREV_POST_MARKET_VOLUME'],\n",
       "      dtype='object')"
      ]
     },
     "execution_count": 4,
     "metadata": {},
     "output_type": "execute_result"
    }
   ],
   "source": [
    "df.columns"
   ]
  },
  {
   "cell_type": "code",
   "execution_count": 5,
   "metadata": {},
   "outputs": [
    {
     "data": {
      "text/html": [
       "<div>\n",
       "<style scoped>\n",
       "    .dataframe tbody tr th:only-of-type {\n",
       "        vertical-align: middle;\n",
       "    }\n",
       "\n",
       "    .dataframe tbody tr th {\n",
       "        vertical-align: top;\n",
       "    }\n",
       "\n",
       "    .dataframe thead th {\n",
       "        text-align: right;\n",
       "    }\n",
       "</style>\n",
       "<table border=\"1\" class=\"dataframe\">\n",
       "  <thead>\n",
       "    <tr style=\"text-align: right;\">\n",
       "      <th></th>\n",
       "      <th>DATE</th>\n",
       "      <th>pre_market_volume</th>\n",
       "      <th>PREV_POST_MARKET_VOLUME</th>\n",
       "      <th>DAY_OF_WEEK</th>\n",
       "      <th>DIFF_O&amp;C</th>\n",
       "    </tr>\n",
       "  </thead>\n",
       "  <tbody>\n",
       "    <tr>\n",
       "      <th>0</th>\n",
       "      <td>2019-01-03</td>\n",
       "      <td>4.131819</td>\n",
       "      <td>1.758289</td>\n",
       "      <td>Thursday</td>\n",
       "      <td>-0.427420</td>\n",
       "    </tr>\n",
       "    <tr>\n",
       "      <th>1</th>\n",
       "      <td>2019-01-04</td>\n",
       "      <td>0.823094</td>\n",
       "      <td>1.370267</td>\n",
       "      <td>Friday</td>\n",
       "      <td>0.890659</td>\n",
       "    </tr>\n",
       "    <tr>\n",
       "      <th>2</th>\n",
       "      <td>2019-01-07</td>\n",
       "      <td>0.010394</td>\n",
       "      <td>1.354492</td>\n",
       "      <td>Monday</td>\n",
       "      <td>-0.183864</td>\n",
       "    </tr>\n",
       "    <tr>\n",
       "      <th>3</th>\n",
       "      <td>2019-01-08</td>\n",
       "      <td>0.233827</td>\n",
       "      <td>0.128943</td>\n",
       "      <td>Tuesday</td>\n",
       "      <td>0.284152</td>\n",
       "    </tr>\n",
       "    <tr>\n",
       "      <th>4</th>\n",
       "      <td>2019-01-09</td>\n",
       "      <td>0.503204</td>\n",
       "      <td>-0.224453</td>\n",
       "      <td>Wednesday</td>\n",
       "      <td>0.482342</td>\n",
       "    </tr>\n",
       "  </tbody>\n",
       "</table>\n",
       "</div>"
      ],
      "text/plain": [
       "         DATE  pre_market_volume  PREV_POST_MARKET_VOLUME DAY_OF_WEEK  \\\n",
       "0  2019-01-03           4.131819                 1.758289    Thursday   \n",
       "1  2019-01-04           0.823094                 1.370267      Friday   \n",
       "2  2019-01-07           0.010394                 1.354492      Monday   \n",
       "3  2019-01-08           0.233827                 0.128943     Tuesday   \n",
       "4  2019-01-09           0.503204                -0.224453   Wednesday   \n",
       "\n",
       "   DIFF_O&C  \n",
       "0 -0.427420  \n",
       "1  0.890659  \n",
       "2 -0.183864  \n",
       "3  0.284152  \n",
       "4  0.482342  "
      ]
     },
     "execution_count": 5,
     "metadata": {},
     "output_type": "execute_result"
    }
   ],
   "source": [
    "selected_features = ['DATE', 'pre_market_volume', 'PREV_POST_MARKET_VOLUME', 'DAY_OF_WEEK', 'DIFF_O&C']\n",
    "df_selected = df[selected_features]\n",
    "df_selected.head()"
   ]
  },
  {
   "cell_type": "code",
   "execution_count": 6,
   "metadata": {},
   "outputs": [],
   "source": [
    "# Encode categorical features (DAY_OF_WEEK) using one-hot encoding\n",
    "df_selected = pd.get_dummies(df_selected, columns=['DAY_OF_WEEK'], drop_first=True)"
   ]
  },
  {
   "cell_type": "code",
   "execution_count": 7,
   "metadata": {},
   "outputs": [
    {
     "data": {
      "text/html": [
       "<div>\n",
       "<style scoped>\n",
       "    .dataframe tbody tr th:only-of-type {\n",
       "        vertical-align: middle;\n",
       "    }\n",
       "\n",
       "    .dataframe tbody tr th {\n",
       "        vertical-align: top;\n",
       "    }\n",
       "\n",
       "    .dataframe thead th {\n",
       "        text-align: right;\n",
       "    }\n",
       "</style>\n",
       "<table border=\"1\" class=\"dataframe\">\n",
       "  <thead>\n",
       "    <tr style=\"text-align: right;\">\n",
       "      <th></th>\n",
       "      <th>DATE</th>\n",
       "      <th>pre_market_volume</th>\n",
       "      <th>PREV_POST_MARKET_VOLUME</th>\n",
       "      <th>DIFF_O&amp;C</th>\n",
       "      <th>DAY_OF_WEEK_Monday</th>\n",
       "      <th>DAY_OF_WEEK_Thursday</th>\n",
       "      <th>DAY_OF_WEEK_Tuesday</th>\n",
       "      <th>DAY_OF_WEEK_Wednesday</th>\n",
       "    </tr>\n",
       "  </thead>\n",
       "  <tbody>\n",
       "    <tr>\n",
       "      <th>0</th>\n",
       "      <td>2019-01-03</td>\n",
       "      <td>4.131819</td>\n",
       "      <td>1.758289</td>\n",
       "      <td>-0.427420</td>\n",
       "      <td>False</td>\n",
       "      <td>True</td>\n",
       "      <td>False</td>\n",
       "      <td>False</td>\n",
       "    </tr>\n",
       "    <tr>\n",
       "      <th>1</th>\n",
       "      <td>2019-01-04</td>\n",
       "      <td>0.823094</td>\n",
       "      <td>1.370267</td>\n",
       "      <td>0.890659</td>\n",
       "      <td>False</td>\n",
       "      <td>False</td>\n",
       "      <td>False</td>\n",
       "      <td>False</td>\n",
       "    </tr>\n",
       "    <tr>\n",
       "      <th>2</th>\n",
       "      <td>2019-01-07</td>\n",
       "      <td>0.010394</td>\n",
       "      <td>1.354492</td>\n",
       "      <td>-0.183864</td>\n",
       "      <td>True</td>\n",
       "      <td>False</td>\n",
       "      <td>False</td>\n",
       "      <td>False</td>\n",
       "    </tr>\n",
       "    <tr>\n",
       "      <th>3</th>\n",
       "      <td>2019-01-08</td>\n",
       "      <td>0.233827</td>\n",
       "      <td>0.128943</td>\n",
       "      <td>0.284152</td>\n",
       "      <td>False</td>\n",
       "      <td>False</td>\n",
       "      <td>True</td>\n",
       "      <td>False</td>\n",
       "    </tr>\n",
       "    <tr>\n",
       "      <th>4</th>\n",
       "      <td>2019-01-09</td>\n",
       "      <td>0.503204</td>\n",
       "      <td>-0.224453</td>\n",
       "      <td>0.482342</td>\n",
       "      <td>False</td>\n",
       "      <td>False</td>\n",
       "      <td>False</td>\n",
       "      <td>True</td>\n",
       "    </tr>\n",
       "  </tbody>\n",
       "</table>\n",
       "</div>"
      ],
      "text/plain": [
       "         DATE  pre_market_volume  PREV_POST_MARKET_VOLUME  DIFF_O&C  \\\n",
       "0  2019-01-03           4.131819                 1.758289 -0.427420   \n",
       "1  2019-01-04           0.823094                 1.370267  0.890659   \n",
       "2  2019-01-07           0.010394                 1.354492 -0.183864   \n",
       "3  2019-01-08           0.233827                 0.128943  0.284152   \n",
       "4  2019-01-09           0.503204                -0.224453  0.482342   \n",
       "\n",
       "   DAY_OF_WEEK_Monday  DAY_OF_WEEK_Thursday  DAY_OF_WEEK_Tuesday  \\\n",
       "0               False                  True                False   \n",
       "1               False                 False                False   \n",
       "2                True                 False                False   \n",
       "3               False                 False                 True   \n",
       "4               False                 False                False   \n",
       "\n",
       "   DAY_OF_WEEK_Wednesday  \n",
       "0                  False  \n",
       "1                  False  \n",
       "2                  False  \n",
       "3                  False  \n",
       "4                   True  "
      ]
     },
     "execution_count": 7,
     "metadata": {},
     "output_type": "execute_result"
    }
   ],
   "source": [
    "df_selected.head()"
   ]
  },
  {
   "cell_type": "code",
   "execution_count": 8,
   "metadata": {},
   "outputs": [
    {
     "data": {
      "text/plain": [
       "Index(['DATE', 'pre_market_volume', 'PREV_POST_MARKET_VOLUME', 'DIFF_O&C',\n",
       "       'DAY_OF_WEEK_Monday', 'DAY_OF_WEEK_Thursday', 'DAY_OF_WEEK_Tuesday',\n",
       "       'DAY_OF_WEEK_Wednesday'],\n",
       "      dtype='object')"
      ]
     },
     "execution_count": 8,
     "metadata": {},
     "output_type": "execute_result"
    }
   ],
   "source": [
    "df_selected.columns"
   ]
  },
  {
   "cell_type": "code",
   "execution_count": 9,
   "metadata": {},
   "outputs": [],
   "source": [
    "df_selected = df_selected.set_index('DATE').sort_index()  # Ensure datetime index"
   ]
  },
  {
   "cell_type": "code",
   "execution_count": 10,
   "metadata": {},
   "outputs": [
    {
     "data": {
      "text/plain": [
       "Index(['pre_market_volume', 'PREV_POST_MARKET_VOLUME', 'DIFF_O&C',\n",
       "       'DAY_OF_WEEK_Monday', 'DAY_OF_WEEK_Thursday', 'DAY_OF_WEEK_Tuesday',\n",
       "       'DAY_OF_WEEK_Wednesday'],\n",
       "      dtype='object')"
      ]
     },
     "execution_count": 10,
     "metadata": {},
     "output_type": "execute_result"
    }
   ],
   "source": [
    "df_selected.columns"
   ]
  },
  {
   "cell_type": "code",
   "execution_count": 11,
   "metadata": {},
   "outputs": [],
   "source": [
    "# Time-based split (last 20% as test)\n",
    "split_idx = int(len(df) * 0.8)\n",
    "train = df_selected.iloc[:split_idx]\n",
    "test = df_selected.iloc[split_idx:]"
   ]
  },
  {
   "cell_type": "markdown",
   "metadata": {},
   "source": [
    "## Correlation"
   ]
  },
  {
   "cell_type": "code",
   "execution_count": 12,
   "metadata": {},
   "outputs": [
    {
     "name": "stdout",
     "output_type": "stream",
     "text": [
      "DIFF_O&C                   1.000000\n",
      "DAY_OF_WEEK_Wednesday      0.151694\n",
      "DAY_OF_WEEK_Monday         0.077330\n",
      "PREV_POST_MARKET_VOLUME    0.075967\n",
      "pre_market_volume         -0.006434\n",
      "DAY_OF_WEEK_Tuesday       -0.110959\n",
      "DAY_OF_WEEK_Thursday      -0.116286\n"
     ]
    }
   ],
   "source": [
    "correlations = df_selected.corr(method='pearson')\n",
    "print(correlations['DIFF_O&C'].sort_values(ascending=False).to_string())"
   ]
  },
  {
   "cell_type": "markdown",
   "metadata": {},
   "source": [
    "## Linear Regression:"
   ]
  },
  {
   "cell_type": "code",
   "execution_count": 13,
   "metadata": {},
   "outputs": [
    {
     "data": {
      "text/plain": [
       "Index(['pre_market_volume', 'PREV_POST_MARKET_VOLUME', 'DIFF_O&C',\n",
       "       'DAY_OF_WEEK_Monday', 'DAY_OF_WEEK_Thursday', 'DAY_OF_WEEK_Tuesday',\n",
       "       'DAY_OF_WEEK_Wednesday'],\n",
       "      dtype='object')"
      ]
     },
     "execution_count": 13,
     "metadata": {},
     "output_type": "execute_result"
    }
   ],
   "source": [
    "df_selected.columns"
   ]
  },
  {
   "cell_type": "code",
   "execution_count": 14,
   "metadata": {},
   "outputs": [],
   "source": [
    "from sklearn.linear_model import LinearRegression\n",
    "\n",
    "# Define features and target\n",
    "features = ['PREV_POST_MARKET_VOLUME', 'pre_market_volume', \n",
    "            'DAY_OF_WEEK_Monday', 'DAY_OF_WEEK_Thursday', \n",
    "            'DAY_OF_WEEK_Tuesday', 'DAY_OF_WEEK_Wednesday',\n",
    "            ]\n",
    "target = 'DIFF_O&C'\n",
    "\n",
    "# Fit model\n",
    "lr = LinearRegression()\n",
    "lr.fit(train[features], train[target])\n",
    "\n",
    "# Predict\n",
    "lr_pred = lr.predict(test[features])"
   ]
  },
  {
   "cell_type": "code",
   "execution_count": 15,
   "metadata": {},
   "outputs": [
    {
     "name": "stdout",
     "output_type": "stream",
     "text": [
      "Mean Squared Error: 0.16\n",
      "Mean Absolute Error: 0.32\n"
     ]
    }
   ],
   "source": [
    "# Evaluate the model\n",
    "from sklearn.metrics import mean_squared_error, mean_absolute_error\n",
    "\n",
    "mse = mean_squared_error(test[target], lr_pred)\n",
    "mae = mean_absolute_error(test[target], lr_pred)\n",
    "print(f\"Mean Squared Error: {mse:.2f}\")\n",
    "print(f\"Mean Absolute Error: {mae:.2f}\")"
   ]
  },
  {
   "cell_type": "code",
   "execution_count": 16,
   "metadata": {},
   "outputs": [
    {
     "data": {
      "image/png": "[encoded data removed]",
      "text/plain": [
       "<Figure size 2000x600 with 1 Axes>"
      ]
     },
     "metadata": {},
     "output_type": "display_data"
    }
   ],
   "source": [
    "# Plot actual vs predicted differences\n",
    "import matplotlib.pyplot as plt\n",
    "\n",
    "plt.figure(figsize=(20, 6))\n",
    "plt.plot(test[target].values, label=\"Actual\", color='blue', alpha=0.7)\n",
    "plt.plot(lr_pred, label=\"Predicted\", color='red', alpha=0.7)\n",
    "plt.legend()\n",
    "plt.title(\"Actual vs Predicted Differences (CLOSE - OPEN)\")\n",
    "plt.show()"
   ]
  },
  {
   "cell_type": "code",
   "execution_count": 17,
   "metadata": {},
   "outputs": [
    {
     "data": {
      "text/plain": [
       "(DATE\n",
       " 2019-04-05    0.131895\n",
       " 2019-04-08    0.882492\n",
       " 2019-04-09   -0.196643\n",
       " 2019-04-10    0.465226\n",
       " 2019-04-11   -0.455635\n",
       " 2019-04-12   -0.079137\n",
       " 2019-04-15    0.155873\n",
       " 2019-04-16   -0.050361\n",
       " 2019-04-17    0.860910\n",
       " 2019-04-18    0.177459\n",
       " 2019-04-22    0.407671\n",
       " 2019-04-23    0.731412\n",
       " 2019-04-24   -0.047961\n",
       " 2019-04-25   -0.371702\n",
       " 2019-04-26   -0.143882\n",
       " 2019-04-29    0.050361\n",
       " 2019-04-30   -0.573139\n",
       " Name: DIFF_O&C, dtype: float64,\n",
       " array([ 0.11183098,  0.0606672 , -0.02149915,  0.1617166 ,  0.01206615,\n",
       "         0.11438003,  0.06172905, -0.00677731,  0.1456313 , -0.00670302,\n",
       "         0.0772957 ,  0.02403027,  0.17708455,  0.02417365,  0.10753173,\n",
       "         0.05796972, -0.01571821]))"
      ]
     },
     "execution_count": 17,
     "metadata": {},
     "output_type": "execute_result"
    }
   ],
   "source": [
    "(test[target], lr_pred)"
   ]
  },
  {
   "cell_type": "markdown",
   "metadata": {},
   "source": [
    "## SARIMAX"
   ]
  },
  {
   "cell_type": "code",
   "execution_count": 18,
   "metadata": {},
   "outputs": [
    {
     "name": "stdout",
     "output_type": "stream",
     "text": [
      "pre_market_volume          float64\n",
      "PREV_POST_MARKET_VOLUME    float64\n",
      "DIFF_O&C                   float64\n",
      "DAY_OF_WEEK_Monday            bool\n",
      "DAY_OF_WEEK_Thursday          bool\n",
      "DAY_OF_WEEK_Tuesday           bool\n",
      "DAY_OF_WEEK_Wednesday         bool\n",
      "dtype: object\n"
     ]
    }
   ],
   "source": [
    "print(df_selected.dtypes)"
   ]
  },
  {
   "cell_type": "code",
   "execution_count": 20,
   "metadata": {},
   "outputs": [
    {
     "name": "stderr",
     "output_type": "stream",
     "text": [
      "C:\\Users\\usith\\AppData\\Local\\Temp\\ipykernel_32400\\4154584696.py:4: SettingWithCopyWarning: \n",
      "A value is trying to be set on a copy of a slice from a DataFrame.\n",
      "Try using .loc[row_indexer,col_indexer] = value instead\n",
      "\n",
      "See the caveats in the documentation: https://pandas.pydata.org/pandas-docs/stable/user_guide/indexing.html#returning-a-view-versus-a-copy\n",
      "  train[day_columns] = train[day_columns].astype(int)\n",
      "C:\\Users\\usith\\AppData\\Local\\Temp\\ipykernel_32400\\4154584696.py:5: SettingWithCopyWarning: \n",
      "A value is trying to be set on a copy of a slice from a DataFrame.\n",
      "Try using .loc[row_indexer,col_indexer] = value instead\n",
      "\n",
      "See the caveats in the documentation: https://pandas.pydata.org/pandas-docs/stable/user_guide/indexing.html#returning-a-view-versus-a-copy\n",
      "  test[day_columns] = test[day_columns].astype(int)\n"
     ]
    }
   ],
   "source": [
    "# Convert one-hot encoded days to integers\n",
    "day_columns = ['DAY_OF_WEEK_Monday', 'DAY_OF_WEEK_Thursday', \n",
    "               'DAY_OF_WEEK_Tuesday', 'DAY_OF_WEEK_Wednesday']\n",
    "train[day_columns] = train[day_columns].astype(int)\n",
    "test[day_columns] = test[day_columns].astype(int)"
   ]
  },
  {
   "cell_type": "code",
   "execution_count": 21,
   "metadata": {},
   "outputs": [
    {
     "name": "stdout",
     "output_type": "stream",
     "text": [
      "pre_market_volume          float64\n",
      "PREV_POST_MARKET_VOLUME    float64\n",
      "DIFF_O&C                   float64\n",
      "DAY_OF_WEEK_Monday           int32\n",
      "DAY_OF_WEEK_Thursday         int32\n",
      "DAY_OF_WEEK_Tuesday          int32\n",
      "DAY_OF_WEEK_Wednesday        int32\n",
      "dtype: object\n"
     ]
    }
   ],
   "source": [
    "print(train.dtypes)"
   ]
  },
  {
   "cell_type": "code",
   "execution_count": 22,
   "metadata": {},
   "outputs": [
    {
     "name": "stderr",
     "output_type": "stream",
     "text": [
      "c:\\Users\\usith\\anaconda3\\Lib\\site-packages\\statsmodels\\tsa\\base\\tsa_model.py:473: ValueWarning: A date index has been provided, but it has no associated frequency information and so will be ignored when e.g. forecasting.\n",
      "  self._init_dates(dates, freq)\n",
      "c:\\Users\\usith\\anaconda3\\Lib\\site-packages\\statsmodels\\tsa\\base\\tsa_model.py:473: ValueWarning: A date index has been provided, but it has no associated frequency information and so will be ignored when e.g. forecasting.\n",
      "  self._init_dates(dates, freq)\n",
      "c:\\Users\\usith\\anaconda3\\Lib\\site-packages\\statsmodels\\base\\model.py:607: ConvergenceWarning: Maximum Likelihood optimization failed to converge. Check mle_retvals\n",
      "  warnings.warn(\"Maximum Likelihood optimization failed to \"\n",
      "c:\\Users\\usith\\anaconda3\\Lib\\site-packages\\statsmodels\\tsa\\base\\tsa_model.py:836: ValueWarning: No supported index is available. Prediction results will be given with an integer index beginning at `start`.\n",
      "  return get_prediction_index(\n",
      "c:\\Users\\usith\\anaconda3\\Lib\\site-packages\\statsmodels\\tsa\\base\\tsa_model.py:836: FutureWarning: No supported index is available. In the next version, calling this method in a model without a supported index will result in an exception.\n",
      "  return get_prediction_index(\n"
     ]
    }
   ],
   "source": [
    "import statsmodels.api as sm\n",
    "\n",
    "# Fit SARIMAX (adjust order/seasonal_order based on your data)\n",
    "model = sm.tsa.SARIMAX(\n",
    "    train[target],\n",
    "    exog=train[features],\n",
    "    order=(1, 0, 1),          # ARIMA order (p,d,q)\n",
    "    seasonal_order=(1, 0, 1, 5)  # Seasonal parameters (P,D,Q,s)\n",
    ")\n",
    "results = model.fit(disp=False)\n",
    "\n",
    "# Forecast\n",
    "sarimax_pred = results.get_forecast(steps=len(test), exog=test[features]).predicted_mean"
   ]
  },
  {
   "cell_type": "code",
   "execution_count": 23,
   "metadata": {},
   "outputs": [
    {
     "name": "stdout",
     "output_type": "stream",
     "text": [
      "Mean Squared Error: 0.15\n",
      "Mean Absolute Error: 0.30\n"
     ]
    }
   ],
   "source": [
    "# Evaluate the model\n",
    "from sklearn.metrics import mean_squared_error, mean_absolute_error\n",
    "\n",
    "mse = mean_squared_error(test[target], sarimax_pred)\n",
    "mae = mean_absolute_error(test[target], sarimax_pred)\n",
    "print(f\"Mean Squared Error: {mse:.2f}\")\n",
    "print(f\"Mean Absolute Error: {mae:.2f}\")"
   ]
  },
  {
   "cell_type": "code",
   "execution_count": 24,
   "metadata": {},
   "outputs": [
    {
     "data": {
      "image/png": "[encoded data removed]",
      "text/plain": [
       "<Figure size 2000x600 with 1 Axes>"
      ]
     },
     "metadata": {},
     "output_type": "display_data"
    }
   ],
   "source": [
    "# Plot actual vs predicted differences\n",
    "import matplotlib.pyplot as plt\n",
    "\n",
    "plt.figure(figsize=(20, 6))\n",
    "plt.plot(test[target].values, label=\"Actual\", color='blue', alpha=0.7)\n",
    "plt.plot(sarimax_pred, label=\"Predicted\", color='red', alpha=0.7)\n",
    "plt.legend()\n",
    "plt.title(\"Actual vs Predicted Differences (CLOSE - OPEN)\")\n",
    "plt.show()"
   ]
  }
 ],
 "metadata": {
  "kernelspec": {
   "display_name": "base",
   "language": "python",
   "name": "python3"
  },
  "language_info": {
   "codemirror_mode": {
    "name": "ipython",
    "version": 3
   },
   "file_extension": ".py",
   "mimetype": "text/x-python",
   "name": "python",
   "nbconvert_exporter": "python",
   "pygments_lexer": "ipython3",
   "version": "3.11.5"
  }
 },
 "nbformat": 4,
 "nbformat_minor": 2
}
