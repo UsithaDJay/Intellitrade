{
 "cells": [
  {
   "cell_type": "code",
   "execution_count": 8,
   "metadata": {},
   "outputs": [],
   "source": [
    "import pandas as pd\n",
    "import numpy as np\n",
    "from sklearn.model_selection import train_test_split\n",
    "from sklearn.ensemble import RandomForestRegressor\n",
    "from sklearn.preprocessing import StandardScaler\n",
    "from sklearn.metrics import mean_squared_error, mean_absolute_error\n",
    "import matplotlib.pyplot as plt"
   ]
  },
  {
   "cell_type": "code",
   "execution_count": 2,
   "metadata": {},
   "outputs": [],
   "source": [
    "dataset_file_path = r'E:\\CampusAcedemics2\\SEM7\\FYP\\Intellitrade\\final_dataset_with_labels.csv'\n",
    "\n",
    "df = pd.read_csv(dataset_file_path)"
   ]
  },
  {
   "cell_type": "code",
   "execution_count": 4,
   "metadata": {},
   "outputs": [
    {
     "data": {
      "text/plain": [
       "array(['AAPL', 'ABBV', 'AMZN', 'AYX', 'BA', 'BABA', 'BAC', 'BRK', 'CRM',\n",
       "       'DIS', 'GOOG', 'JNJ', 'JPM', 'KO', 'MA', 'MSFT', 'SHOP', 'SQ', 'T',\n",
       "       'TWLO', 'V', 'VOO', 'VTI'], dtype=object)"
      ]
     },
     "execution_count": 4,
     "metadata": {},
     "output_type": "execute_result"
    }
   ],
   "source": [
    "df['SYM_ROOT'].unique()"
   ]
  },
  {
   "cell_type": "code",
   "execution_count": 5,
   "metadata": {},
   "outputs": [
    {
     "data": {
      "text/plain": [
       "array(['2019-01-02', '2019-01-03', '2019-01-04', '2019-01-07',\n",
       "       '2019-01-08', '2019-01-09', '2019-01-10', '2019-01-11',\n",
       "       '2019-01-14', '2019-01-15', '2019-01-16', '2019-01-17',\n",
       "       '2019-01-18', '2019-01-22', '2019-01-23', '2019-01-24',\n",
       "       '2019-01-25', '2019-01-28', '2019-01-29', '2019-01-30',\n",
       "       '2019-01-31', '2019-02-01', '2019-02-04', '2019-02-05',\n",
       "       '2019-02-06', '2019-02-07', '2019-02-08', '2019-02-11',\n",
       "       '2019-02-12', '2019-02-13', '2019-02-14', '2019-02-15',\n",
       "       '2019-02-19', '2019-02-20', '2019-02-21', '2019-02-22',\n",
       "       '2019-02-25', '2019-02-26', '2019-02-27', '2019-02-28',\n",
       "       '2019-03-01', '2019-03-04', '2019-03-05', '2019-03-06',\n",
       "       '2019-03-07', '2019-03-08', '2019-03-11', '2019-03-12',\n",
       "       '2019-03-13', '2019-03-14', '2019-03-15', '2019-03-18',\n",
       "       '2019-03-19', '2019-03-20', '2019-03-21', '2019-03-22',\n",
       "       '2019-03-25', '2019-03-26', '2019-03-27', '2019-03-28',\n",
       "       '2019-03-29', '2019-04-01', '2019-04-02', '2019-04-03',\n",
       "       '2019-04-04', '2019-04-05', '2019-04-08', '2019-04-09',\n",
       "       '2019-04-10', '2019-04-11', '2019-04-12', '2019-04-15',\n",
       "       '2019-04-16', '2019-04-17', '2019-04-18', '2019-04-22',\n",
       "       '2019-04-23', '2019-04-24', '2019-04-25', '2019-04-26',\n",
       "       '2019-04-29', '2019-04-30'], dtype=object)"
      ]
     },
     "execution_count": 5,
     "metadata": {},
     "output_type": "execute_result"
    }
   ],
   "source": [
    "df['DATE'].unique()"
   ]
  },
  {
   "cell_type": "code",
   "execution_count": 7,
   "metadata": {},
   "outputs": [
    {
     "data": {
      "text/plain": [
       "Index(['SYM_ROOT', 'DATE', 'pre_market_volume', 'post_market_volume',\n",
       "       'DAY_OF_WEEK', 'OPEN', 'HIGH', 'LOW', 'CLOSE', 'VOLUME'],\n",
       "      dtype='object')"
      ]
     },
     "execution_count": 7,
     "metadata": {},
     "output_type": "execute_result"
    }
   ],
   "source": [
    "df.columns"
   ]
  },
  {
   "cell_type": "code",
   "execution_count": null,
   "metadata": {},
   "outputs": [],
   "source": []
  }
 ],
 "metadata": {
  "kernelspec": {
   "display_name": "base",
   "language": "python",
   "name": "python3"
  },
  "language_info": {
   "codemirror_mode": {
    "name": "ipython",
    "version": 3
   },
   "file_extension": ".py",
   "mimetype": "text/x-python",
   "name": "python",
   "nbconvert_exporter": "python",
   "pygments_lexer": "ipython3",
   "version": "3.12.3"
  }
 },
 "nbformat": 4,
 "nbformat_minor": 2
}
