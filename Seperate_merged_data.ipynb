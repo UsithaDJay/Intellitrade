{
 "cells": [
  {
   "cell_type": "code",
   "execution_count": 1,
   "metadata": {},
   "outputs": [],
   "source": [
    "import pandas as pd"
   ]
  },
  {
   "cell_type": "code",
   "execution_count": 2,
   "metadata": {},
   "outputs": [],
   "source": [
    "dataset_file_path = './Merged_data/final_dataset_with_labels.csv'\n",
    "\n",
    "df = pd.read_csv(dataset_file_path)"
   ]
  },
  {
   "cell_type": "code",
   "execution_count": 3,
   "metadata": {},
   "outputs": [
    {
     "data": {
      "text/html": [
       "<div>\n",
       "<style scoped>\n",
       "    .dataframe tbody tr th:only-of-type {\n",
       "        vertical-align: middle;\n",
       "    }\n",
       "\n",
       "    .dataframe tbody tr th {\n",
       "        vertical-align: top;\n",
       "    }\n",
       "\n",
       "    .dataframe thead th {\n",
       "        text-align: right;\n",
       "    }\n",
       "</style>\n",
       "<table border=\"1\" class=\"dataframe\">\n",
       "  <thead>\n",
       "    <tr style=\"text-align: right;\">\n",
       "      <th></th>\n",
       "      <th>SYM_ROOT</th>\n",
       "      <th>DATE</th>\n",
       "      <th>pre_market_volume</th>\n",
       "      <th>post_market_volume</th>\n",
       "      <th>DAY_OF_WEEK</th>\n",
       "      <th>OPEN</th>\n",
       "      <th>HIGH</th>\n",
       "      <th>LOW</th>\n",
       "      <th>CLOSE</th>\n",
       "      <th>VOLUME</th>\n",
       "    </tr>\n",
       "  </thead>\n",
       "  <tbody>\n",
       "    <tr>\n",
       "      <th>0</th>\n",
       "      <td>AAPL</td>\n",
       "      <td>2019-01-02</td>\n",
       "      <td>1448699.0</td>\n",
       "      <td>10818374.0</td>\n",
       "      <td>Wednesday</td>\n",
       "      <td>36.985091</td>\n",
       "      <td>37.930673</td>\n",
       "      <td>36.827493</td>\n",
       "      <td>37.708603</td>\n",
       "      <td>148158800.0</td>\n",
       "    </tr>\n",
       "    <tr>\n",
       "      <th>1</th>\n",
       "      <td>AAPL</td>\n",
       "      <td>2019-01-03</td>\n",
       "      <td>8702037.0</td>\n",
       "      <td>9788893.0</td>\n",
       "      <td>Thursday</td>\n",
       "      <td>34.379961</td>\n",
       "      <td>34.795445</td>\n",
       "      <td>33.907172</td>\n",
       "      <td>33.952541</td>\n",
       "      <td>365248800.0</td>\n",
       "    </tr>\n",
       "    <tr>\n",
       "      <th>2</th>\n",
       "      <td>AAPL</td>\n",
       "      <td>2019-01-04</td>\n",
       "      <td>3011205.0</td>\n",
       "      <td>9747041.0</td>\n",
       "      <td>Friday</td>\n",
       "      <td>34.511292</td>\n",
       "      <td>35.471200</td>\n",
       "      <td>34.336981</td>\n",
       "      <td>35.401951</td>\n",
       "      <td>234428400.0</td>\n",
       "    </tr>\n",
       "    <tr>\n",
       "      <th>3</th>\n",
       "      <td>AAPL</td>\n",
       "      <td>2019-01-07</td>\n",
       "      <td>1613404.0</td>\n",
       "      <td>6495477.0</td>\n",
       "      <td>Monday</td>\n",
       "      <td>35.507018</td>\n",
       "      <td>35.538061</td>\n",
       "      <td>34.838425</td>\n",
       "      <td>35.323154</td>\n",
       "      <td>219111200.0</td>\n",
       "    </tr>\n",
       "    <tr>\n",
       "      <th>4</th>\n",
       "      <td>AAPL</td>\n",
       "      <td>2019-01-08</td>\n",
       "      <td>1997698.0</td>\n",
       "      <td>5557865.0</td>\n",
       "      <td>Tuesday</td>\n",
       "      <td>35.712369</td>\n",
       "      <td>36.252020</td>\n",
       "      <td>35.464036</td>\n",
       "      <td>35.996521</td>\n",
       "      <td>164101200.0</td>\n",
       "    </tr>\n",
       "  </tbody>\n",
       "</table>\n",
       "</div>"
      ],
      "text/plain": [
       "  SYM_ROOT        DATE  pre_market_volume  post_market_volume DAY_OF_WEEK  \\\n",
       "0     AAPL  2019-01-02          1448699.0          10818374.0   Wednesday   \n",
       "1     AAPL  2019-01-03          8702037.0           9788893.0    Thursday   \n",
       "2     AAPL  2019-01-04          3011205.0           9747041.0      Friday   \n",
       "3     AAPL  2019-01-07          1613404.0           6495477.0      Monday   \n",
       "4     AAPL  2019-01-08          1997698.0           5557865.0     Tuesday   \n",
       "\n",
       "        OPEN       HIGH        LOW      CLOSE       VOLUME  \n",
       "0  36.985091  37.930673  36.827493  37.708603  148158800.0  \n",
       "1  34.379961  34.795445  33.907172  33.952541  365248800.0  \n",
       "2  34.511292  35.471200  34.336981  35.401951  234428400.0  \n",
       "3  35.507018  35.538061  34.838425  35.323154  219111200.0  \n",
       "4  35.712369  36.252020  35.464036  35.996521  164101200.0  "
      ]
     },
     "execution_count": 3,
     "metadata": {},
     "output_type": "execute_result"
    }
   ],
   "source": [
    "df.head()"
   ]
  },
  {
   "cell_type": "code",
   "execution_count": 4,
   "metadata": {},
   "outputs": [
    {
     "data": {
      "text/plain": [
       "array(['AAPL', 'ABBV', 'AMZN', 'AYX', 'BA', 'BABA', 'BAC', 'BRK', 'CRM',\n",
       "       'DIS', 'GOOG', 'JNJ', 'JPM', 'KO', 'MA', 'MSFT', 'SHOP', 'SQ', 'T',\n",
       "       'TWLO', 'V', 'VOO', 'VTI'], dtype=object)"
      ]
     },
     "execution_count": 4,
     "metadata": {},
     "output_type": "execute_result"
    }
   ],
   "source": [
    "df['SYM_ROOT'].unique()"
   ]
  },
  {
   "cell_type": "code",
   "execution_count": 8,
   "metadata": {},
   "outputs": [
    {
     "data": {
      "text/plain": [
       "<DatetimeArray>\n",
       "['2019-01-02 00:00:00', '2019-01-03 00:00:00', '2019-01-04 00:00:00',\n",
       " '2019-01-07 00:00:00', '2019-01-08 00:00:00', '2019-01-09 00:00:00',\n",
       " '2019-01-10 00:00:00', '2019-01-11 00:00:00', '2019-01-14 00:00:00',\n",
       " '2019-01-15 00:00:00', '2019-01-16 00:00:00', '2019-01-17 00:00:00',\n",
       " '2019-01-18 00:00:00', '2019-01-22 00:00:00', '2019-01-23 00:00:00',\n",
       " '2019-01-24 00:00:00', '2019-01-25 00:00:00', '2019-01-28 00:00:00',\n",
       " '2019-01-29 00:00:00', '2019-01-30 00:00:00', '2019-01-31 00:00:00',\n",
       " '2019-02-01 00:00:00', '2019-02-04 00:00:00', '2019-02-05 00:00:00',\n",
       " '2019-02-06 00:00:00', '2019-02-07 00:00:00', '2019-02-08 00:00:00',\n",
       " '2019-02-11 00:00:00', '2019-02-12 00:00:00', '2019-02-13 00:00:00',\n",
       " '2019-02-14 00:00:00', '2019-02-15 00:00:00', '2019-02-19 00:00:00',\n",
       " '2019-02-20 00:00:00', '2019-02-21 00:00:00', '2019-02-22 00:00:00',\n",
       " '2019-02-25 00:00:00', '2019-02-26 00:00:00', '2019-02-27 00:00:00',\n",
       " '2019-02-28 00:00:00', '2019-03-01 00:00:00', '2019-03-04 00:00:00',\n",
       " '2019-03-05 00:00:00', '2019-03-06 00:00:00', '2019-03-07 00:00:00',\n",
       " '2019-03-08 00:00:00', '2019-03-11 00:00:00', '2019-03-12 00:00:00',\n",
       " '2019-03-13 00:00:00', '2019-03-14 00:00:00', '2019-03-15 00:00:00',\n",
       " '2019-03-18 00:00:00', '2019-03-19 00:00:00', '2019-03-20 00:00:00',\n",
       " '2019-03-21 00:00:00', '2019-03-22 00:00:00', '2019-03-25 00:00:00',\n",
       " '2019-03-26 00:00:00', '2019-03-27 00:00:00', '2019-03-28 00:00:00',\n",
       " '2019-03-29 00:00:00', '2019-04-01 00:00:00', '2019-04-02 00:00:00',\n",
       " '2019-04-03 00:00:00', '2019-04-04 00:00:00', '2019-04-05 00:00:00',\n",
       " '2019-04-08 00:00:00', '2019-04-09 00:00:00', '2019-04-10 00:00:00',\n",
       " '2019-04-11 00:00:00', '2019-04-12 00:00:00', '2019-04-15 00:00:00',\n",
       " '2019-04-16 00:00:00', '2019-04-17 00:00:00', '2019-04-18 00:00:00',\n",
       " '2019-04-22 00:00:00', '2019-04-23 00:00:00', '2019-04-24 00:00:00',\n",
       " '2019-04-25 00:00:00', '2019-04-26 00:00:00', '2019-04-29 00:00:00',\n",
       " '2019-04-30 00:00:00']\n",
       "Length: 82, dtype: datetime64[ns]"
      ]
     },
     "execution_count": 8,
     "metadata": {},
     "output_type": "execute_result"
    }
   ],
   "source": [
    "df['DATE'].unique()"
   ]
  },
  {
   "cell_type": "code",
   "execution_count": 6,
   "metadata": {},
   "outputs": [
    {
     "data": {
      "text/plain": [
       "Index(['SYM_ROOT', 'DATE', 'pre_market_volume', 'post_market_volume',\n",
       "       'DAY_OF_WEEK', 'OPEN', 'HIGH', 'LOW', 'CLOSE', 'VOLUME'],\n",
       "      dtype='object')"
      ]
     },
     "execution_count": 6,
     "metadata": {},
     "output_type": "execute_result"
    }
   ],
   "source": [
    "df.columns"
   ]
  },
  {
   "cell_type": "code",
   "execution_count": 7,
   "metadata": {},
   "outputs": [],
   "source": [
    "df['DATE'] = pd.to_datetime(df['DATE'])"
   ]
  },
  {
   "cell_type": "code",
   "execution_count": 9,
   "metadata": {},
   "outputs": [],
   "source": [
    "# Create the target variable dataset\n",
    "df['DIFF_O&C'] = df['CLOSE'] - df['OPEN']\n",
    "df['DIFF_H&L'] = df['HIGH'] - df['LOW']"
   ]
  },
  {
   "cell_type": "code",
   "execution_count": 10,
   "metadata": {},
   "outputs": [],
   "source": [
    "# Create shifted features for the previous day's post-market volume\n",
    "df['PREV_POST_MARKET_VOLUME'] = df.groupby('SYM_ROOT')['post_market_volume'].shift(1)"
   ]
  },
  {
   "cell_type": "code",
   "execution_count": 12,
   "metadata": {},
   "outputs": [
    {
     "name": "stdout",
     "output_type": "stream",
     "text": [
      "<class 'pandas.core.frame.DataFrame'>\n",
      "RangeIndex: 1886 entries, 0 to 1885\n",
      "Data columns (total 13 columns):\n",
      " #   Column                   Non-Null Count  Dtype         \n",
      "---  ------                   --------------  -----         \n",
      " 0   SYM_ROOT                 1886 non-null   object        \n",
      " 1   DATE                     1886 non-null   datetime64[ns]\n",
      " 2   pre_market_volume        1886 non-null   float64       \n",
      " 3   post_market_volume       1886 non-null   float64       \n",
      " 4   DAY_OF_WEEK              1886 non-null   object        \n",
      " 5   OPEN                     1804 non-null   float64       \n",
      " 6   HIGH                     1804 non-null   float64       \n",
      " 7   LOW                      1804 non-null   float64       \n",
      " 8   CLOSE                    1804 non-null   float64       \n",
      " 9   VOLUME                   1804 non-null   float64       \n",
      " 10  DIFF_O&C                 1804 non-null   float64       \n",
      " 11  DIFF_H&L                 1804 non-null   float64       \n",
      " 12  PREV_POST_MARKET_VOLUME  1863 non-null   float64       \n",
      "dtypes: datetime64[ns](1), float64(10), object(2)\n",
      "memory usage: 191.7+ KB\n"
     ]
    }
   ],
   "source": [
    "df.info()"
   ]
  },
  {
   "cell_type": "code",
   "execution_count": 15,
   "metadata": {},
   "outputs": [
    {
     "data": {
      "text/html": [
       "<div>\n",
       "<style scoped>\n",
       "    .dataframe tbody tr th:only-of-type {\n",
       "        vertical-align: middle;\n",
       "    }\n",
       "\n",
       "    .dataframe tbody tr th {\n",
       "        vertical-align: top;\n",
       "    }\n",
       "\n",
       "    .dataframe thead th {\n",
       "        text-align: right;\n",
       "    }\n",
       "</style>\n",
       "<table border=\"1\" class=\"dataframe\">\n",
       "  <thead>\n",
       "    <tr style=\"text-align: right;\">\n",
       "      <th></th>\n",
       "      <th>SYM_ROOT</th>\n",
       "      <th>DATE</th>\n",
       "      <th>pre_market_volume</th>\n",
       "      <th>post_market_volume</th>\n",
       "      <th>DAY_OF_WEEK</th>\n",
       "      <th>OPEN</th>\n",
       "      <th>HIGH</th>\n",
       "      <th>LOW</th>\n",
       "      <th>CLOSE</th>\n",
       "      <th>VOLUME</th>\n",
       "      <th>DIFF_O&amp;C</th>\n",
       "      <th>DIFF_H&amp;L</th>\n",
       "      <th>PREV_POST_MARKET_VOLUME</th>\n",
       "    </tr>\n",
       "  </thead>\n",
       "  <tbody>\n",
       "    <tr>\n",
       "      <th>246</th>\n",
       "      <td>AYX</td>\n",
       "      <td>2019-01-02</td>\n",
       "      <td>10660.0</td>\n",
       "      <td>248573.0</td>\n",
       "      <td>Wednesday</td>\n",
       "      <td>NaN</td>\n",
       "      <td>NaN</td>\n",
       "      <td>NaN</td>\n",
       "      <td>NaN</td>\n",
       "      <td>NaN</td>\n",
       "      <td>NaN</td>\n",
       "      <td>NaN</td>\n",
       "      <td>NaN</td>\n",
       "    </tr>\n",
       "    <tr>\n",
       "      <th>247</th>\n",
       "      <td>AYX</td>\n",
       "      <td>2019-01-03</td>\n",
       "      <td>9422.0</td>\n",
       "      <td>88315.0</td>\n",
       "      <td>Thursday</td>\n",
       "      <td>NaN</td>\n",
       "      <td>NaN</td>\n",
       "      <td>NaN</td>\n",
       "      <td>NaN</td>\n",
       "      <td>NaN</td>\n",
       "      <td>NaN</td>\n",
       "      <td>NaN</td>\n",
       "      <td>248573.0</td>\n",
       "    </tr>\n",
       "    <tr>\n",
       "      <th>248</th>\n",
       "      <td>AYX</td>\n",
       "      <td>2019-01-04</td>\n",
       "      <td>6485.0</td>\n",
       "      <td>179134.0</td>\n",
       "      <td>Friday</td>\n",
       "      <td>NaN</td>\n",
       "      <td>NaN</td>\n",
       "      <td>NaN</td>\n",
       "      <td>NaN</td>\n",
       "      <td>NaN</td>\n",
       "      <td>NaN</td>\n",
       "      <td>NaN</td>\n",
       "      <td>88315.0</td>\n",
       "    </tr>\n",
       "    <tr>\n",
       "      <th>249</th>\n",
       "      <td>AYX</td>\n",
       "      <td>2019-01-07</td>\n",
       "      <td>14127.0</td>\n",
       "      <td>147861.0</td>\n",
       "      <td>Monday</td>\n",
       "      <td>NaN</td>\n",
       "      <td>NaN</td>\n",
       "      <td>NaN</td>\n",
       "      <td>NaN</td>\n",
       "      <td>NaN</td>\n",
       "      <td>NaN</td>\n",
       "      <td>NaN</td>\n",
       "      <td>179134.0</td>\n",
       "    </tr>\n",
       "    <tr>\n",
       "      <th>250</th>\n",
       "      <td>AYX</td>\n",
       "      <td>2019-01-08</td>\n",
       "      <td>39129.0</td>\n",
       "      <td>154371.0</td>\n",
       "      <td>Tuesday</td>\n",
       "      <td>NaN</td>\n",
       "      <td>NaN</td>\n",
       "      <td>NaN</td>\n",
       "      <td>NaN</td>\n",
       "      <td>NaN</td>\n",
       "      <td>NaN</td>\n",
       "      <td>NaN</td>\n",
       "      <td>147861.0</td>\n",
       "    </tr>\n",
       "    <tr>\n",
       "      <th>...</th>\n",
       "      <td>...</td>\n",
       "      <td>...</td>\n",
       "      <td>...</td>\n",
       "      <td>...</td>\n",
       "      <td>...</td>\n",
       "      <td>...</td>\n",
       "      <td>...</td>\n",
       "      <td>...</td>\n",
       "      <td>...</td>\n",
       "      <td>...</td>\n",
       "      <td>...</td>\n",
       "      <td>...</td>\n",
       "      <td>...</td>\n",
       "    </tr>\n",
       "    <tr>\n",
       "      <th>323</th>\n",
       "      <td>AYX</td>\n",
       "      <td>2019-04-24</td>\n",
       "      <td>9299.0</td>\n",
       "      <td>122090.0</td>\n",
       "      <td>Wednesday</td>\n",
       "      <td>NaN</td>\n",
       "      <td>NaN</td>\n",
       "      <td>NaN</td>\n",
       "      <td>NaN</td>\n",
       "      <td>NaN</td>\n",
       "      <td>NaN</td>\n",
       "      <td>NaN</td>\n",
       "      <td>153372.0</td>\n",
       "    </tr>\n",
       "    <tr>\n",
       "      <th>324</th>\n",
       "      <td>AYX</td>\n",
       "      <td>2019-04-25</td>\n",
       "      <td>12443.0</td>\n",
       "      <td>504003.0</td>\n",
       "      <td>Thursday</td>\n",
       "      <td>NaN</td>\n",
       "      <td>NaN</td>\n",
       "      <td>NaN</td>\n",
       "      <td>NaN</td>\n",
       "      <td>NaN</td>\n",
       "      <td>NaN</td>\n",
       "      <td>NaN</td>\n",
       "      <td>122090.0</td>\n",
       "    </tr>\n",
       "    <tr>\n",
       "      <th>325</th>\n",
       "      <td>AYX</td>\n",
       "      <td>2019-04-26</td>\n",
       "      <td>6115.0</td>\n",
       "      <td>45485.0</td>\n",
       "      <td>Friday</td>\n",
       "      <td>NaN</td>\n",
       "      <td>NaN</td>\n",
       "      <td>NaN</td>\n",
       "      <td>NaN</td>\n",
       "      <td>NaN</td>\n",
       "      <td>NaN</td>\n",
       "      <td>NaN</td>\n",
       "      <td>504003.0</td>\n",
       "    </tr>\n",
       "    <tr>\n",
       "      <th>326</th>\n",
       "      <td>AYX</td>\n",
       "      <td>2019-04-29</td>\n",
       "      <td>33206.0</td>\n",
       "      <td>346847.0</td>\n",
       "      <td>Monday</td>\n",
       "      <td>NaN</td>\n",
       "      <td>NaN</td>\n",
       "      <td>NaN</td>\n",
       "      <td>NaN</td>\n",
       "      <td>NaN</td>\n",
       "      <td>NaN</td>\n",
       "      <td>NaN</td>\n",
       "      <td>45485.0</td>\n",
       "    </tr>\n",
       "    <tr>\n",
       "      <th>327</th>\n",
       "      <td>AYX</td>\n",
       "      <td>2019-04-30</td>\n",
       "      <td>10715.0</td>\n",
       "      <td>184060.0</td>\n",
       "      <td>Tuesday</td>\n",
       "      <td>NaN</td>\n",
       "      <td>NaN</td>\n",
       "      <td>NaN</td>\n",
       "      <td>NaN</td>\n",
       "      <td>NaN</td>\n",
       "      <td>NaN</td>\n",
       "      <td>NaN</td>\n",
       "      <td>346847.0</td>\n",
       "    </tr>\n",
       "  </tbody>\n",
       "</table>\n",
       "<p>82 rows × 13 columns</p>\n",
       "</div>"
      ],
      "text/plain": [
       "    SYM_ROOT       DATE  pre_market_volume  post_market_volume DAY_OF_WEEK  \\\n",
       "246      AYX 2019-01-02            10660.0            248573.0   Wednesday   \n",
       "247      AYX 2019-01-03             9422.0             88315.0    Thursday   \n",
       "248      AYX 2019-01-04             6485.0            179134.0      Friday   \n",
       "249      AYX 2019-01-07            14127.0            147861.0      Monday   \n",
       "250      AYX 2019-01-08            39129.0            154371.0     Tuesday   \n",
       "..       ...        ...                ...                 ...         ...   \n",
       "323      AYX 2019-04-24             9299.0            122090.0   Wednesday   \n",
       "324      AYX 2019-04-25            12443.0            504003.0    Thursday   \n",
       "325      AYX 2019-04-26             6115.0             45485.0      Friday   \n",
       "326      AYX 2019-04-29            33206.0            346847.0      Monday   \n",
       "327      AYX 2019-04-30            10715.0            184060.0     Tuesday   \n",
       "\n",
       "     OPEN  HIGH  LOW  CLOSE  VOLUME  DIFF_O&C  DIFF_H&L  \\\n",
       "246   NaN   NaN  NaN    NaN     NaN       NaN       NaN   \n",
       "247   NaN   NaN  NaN    NaN     NaN       NaN       NaN   \n",
       "248   NaN   NaN  NaN    NaN     NaN       NaN       NaN   \n",
       "249   NaN   NaN  NaN    NaN     NaN       NaN       NaN   \n",
       "250   NaN   NaN  NaN    NaN     NaN       NaN       NaN   \n",
       "..    ...   ...  ...    ...     ...       ...       ...   \n",
       "323   NaN   NaN  NaN    NaN     NaN       NaN       NaN   \n",
       "324   NaN   NaN  NaN    NaN     NaN       NaN       NaN   \n",
       "325   NaN   NaN  NaN    NaN     NaN       NaN       NaN   \n",
       "326   NaN   NaN  NaN    NaN     NaN       NaN       NaN   \n",
       "327   NaN   NaN  NaN    NaN     NaN       NaN       NaN   \n",
       "\n",
       "     PREV_POST_MARKET_VOLUME  \n",
       "246                      NaN  \n",
       "247                 248573.0  \n",
       "248                  88315.0  \n",
       "249                 179134.0  \n",
       "250                 147861.0  \n",
       "..                       ...  \n",
       "323                 153372.0  \n",
       "324                 122090.0  \n",
       "325                 504003.0  \n",
       "326                  45485.0  \n",
       "327                 346847.0  \n",
       "\n",
       "[82 rows x 13 columns]"
      ]
     },
     "execution_count": 15,
     "metadata": {},
     "output_type": "execute_result"
    }
   ],
   "source": [
    "df[df[\"CLOSE\"].isnull()]"
   ]
  },
  {
   "cell_type": "code",
   "execution_count": 16,
   "metadata": {},
   "outputs": [],
   "source": [
    "# Remove AYX because data from yahoo is null\n",
    "df = df[df['SYM_ROOT'] != 'AYX']"
   ]
  },
  {
   "cell_type": "code",
   "execution_count": 17,
   "metadata": {},
   "outputs": [
    {
     "name": "stdout",
     "output_type": "stream",
     "text": [
      "<class 'pandas.core.frame.DataFrame'>\n",
      "Index: 1804 entries, 0 to 1885\n",
      "Data columns (total 13 columns):\n",
      " #   Column                   Non-Null Count  Dtype         \n",
      "---  ------                   --------------  -----         \n",
      " 0   SYM_ROOT                 1804 non-null   object        \n",
      " 1   DATE                     1804 non-null   datetime64[ns]\n",
      " 2   pre_market_volume        1804 non-null   float64       \n",
      " 3   post_market_volume       1804 non-null   float64       \n",
      " 4   DAY_OF_WEEK              1804 non-null   object        \n",
      " 5   OPEN                     1804 non-null   float64       \n",
      " 6   HIGH                     1804 non-null   float64       \n",
      " 7   LOW                      1804 non-null   float64       \n",
      " 8   CLOSE                    1804 non-null   float64       \n",
      " 9   VOLUME                   1804 non-null   float64       \n",
      " 10  DIFF_O&C                 1804 non-null   float64       \n",
      " 11  DIFF_H&L                 1804 non-null   float64       \n",
      " 12  PREV_POST_MARKET_VOLUME  1782 non-null   float64       \n",
      "dtypes: datetime64[ns](1), float64(10), object(2)\n",
      "memory usage: 197.3+ KB\n"
     ]
    }
   ],
   "source": [
    "df.info()"
   ]
  },
  {
   "cell_type": "code",
   "execution_count": 18,
   "metadata": {},
   "outputs": [],
   "source": [
    "df = df.dropna(subset = ['PREV_POST_MARKET_VOLUME'])"
   ]
  },
  {
   "cell_type": "code",
   "execution_count": 19,
   "metadata": {},
   "outputs": [
    {
     "name": "stdout",
     "output_type": "stream",
     "text": [
      "<class 'pandas.core.frame.DataFrame'>\n",
      "Index: 1782 entries, 1 to 1885\n",
      "Data columns (total 13 columns):\n",
      " #   Column                   Non-Null Count  Dtype         \n",
      "---  ------                   --------------  -----         \n",
      " 0   SYM_ROOT                 1782 non-null   object        \n",
      " 1   DATE                     1782 non-null   datetime64[ns]\n",
      " 2   pre_market_volume        1782 non-null   float64       \n",
      " 3   post_market_volume       1782 non-null   float64       \n",
      " 4   DAY_OF_WEEK              1782 non-null   object        \n",
      " 5   OPEN                     1782 non-null   float64       \n",
      " 6   HIGH                     1782 non-null   float64       \n",
      " 7   LOW                      1782 non-null   float64       \n",
      " 8   CLOSE                    1782 non-null   float64       \n",
      " 9   VOLUME                   1782 non-null   float64       \n",
      " 10  DIFF_O&C                 1782 non-null   float64       \n",
      " 11  DIFF_H&L                 1782 non-null   float64       \n",
      " 12  PREV_POST_MARKET_VOLUME  1782 non-null   float64       \n",
      "dtypes: datetime64[ns](1), float64(10), object(2)\n",
      "memory usage: 194.9+ KB\n"
     ]
    }
   ],
   "source": [
    "df.info()"
   ]
  },
  {
   "cell_type": "code",
   "execution_count": 20,
   "metadata": {},
   "outputs": [
    {
     "data": {
      "text/plain": [
       "array(['AAPL', 'ABBV', 'AMZN', 'BA', 'BABA', 'BAC', 'BRK', 'CRM', 'DIS',\n",
       "       'GOOG', 'JNJ', 'JPM', 'KO', 'MA', 'MSFT', 'SHOP', 'SQ', 'T',\n",
       "       'TWLO', 'V', 'VOO', 'VTI'], dtype=object)"
      ]
     },
     "execution_count": 20,
     "metadata": {},
     "output_type": "execute_result"
    }
   ],
   "source": [
    "df['SYM_ROOT'].unique()"
   ]
  },
  {
   "cell_type": "code",
   "execution_count": 21,
   "metadata": {},
   "outputs": [
    {
     "name": "stdout",
     "output_type": "stream",
     "text": [
      "Saved: ./Merged_data/AAPL.csv\n",
      "Saved: ./Merged_data/ABBV.csv\n",
      "Saved: ./Merged_data/AMZN.csv\n",
      "Saved: ./Merged_data/BA.csv\n",
      "Saved: ./Merged_data/BABA.csv\n",
      "Saved: ./Merged_data/BAC.csv\n",
      "Saved: ./Merged_data/BRK.csv\n",
      "Saved: ./Merged_data/CRM.csv\n",
      "Saved: ./Merged_data/DIS.csv\n",
      "Saved: ./Merged_data/GOOG.csv\n",
      "Saved: ./Merged_data/JNJ.csv\n",
      "Saved: ./Merged_data/JPM.csv\n",
      "Saved: ./Merged_data/KO.csv\n",
      "Saved: ./Merged_data/MA.csv\n",
      "Saved: ./Merged_data/MSFT.csv\n",
      "Saved: ./Merged_data/SHOP.csv\n",
      "Saved: ./Merged_data/SQ.csv\n",
      "Saved: ./Merged_data/T.csv\n",
      "Saved: ./Merged_data/TWLO.csv\n",
      "Saved: ./Merged_data/V.csv\n",
      "Saved: ./Merged_data/VOO.csv\n",
      "Saved: ./Merged_data/VTI.csv\n",
      "All CSV files are created successfully.\n"
     ]
    }
   ],
   "source": [
    "# Get unique symbols\n",
    "unique_symbols = df['SYM_ROOT'].unique()\n",
    "\n",
    "# Save separate CSV files for each symbol\n",
    "output_dir = \"./Merged_data/\"  # Change this if needed\n",
    "\n",
    "for symbol in unique_symbols:\n",
    "    symbol_df = df[df['SYM_ROOT'] == symbol]  # Filter data for the symbol\n",
    "    file_path = f\"{output_dir}{symbol}.csv\"  # Create a filename\n",
    "    symbol_df.to_csv(file_path, index=False)  # Save to CSV\n",
    "    print(f\"Saved: {file_path}\")\n",
    "\n",
    "print(\"All CSV files are created successfully.\")"
   ]
  }
 ],
 "metadata": {
  "kernelspec": {
   "display_name": "base",
   "language": "python",
   "name": "python3"
  },
  "language_info": {
   "codemirror_mode": {
    "name": "ipython",
    "version": 3
   },
   "file_extension": ".py",
   "mimetype": "text/x-python",
   "name": "python",
   "nbconvert_exporter": "python",
   "pygments_lexer": "ipython3",
   "version": "3.11.5"
  }
 },
 "nbformat": 4,
 "nbformat_minor": 2
}
