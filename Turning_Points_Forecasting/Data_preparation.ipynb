{
 "cells": [
  {
   "cell_type": "code",
   "execution_count": 1,
   "metadata": {},
   "outputs": [],
   "source": [
    "import pandas as pd"
   ]
  },
  {
   "cell_type": "code",
   "execution_count": 2,
   "metadata": {},
   "outputs": [
    {
     "data": {
      "text/html": [
       "<div>\n",
       "<style scoped>\n",
       "    .dataframe tbody tr th:only-of-type {\n",
       "        vertical-align: middle;\n",
       "    }\n",
       "\n",
       "    .dataframe tbody tr th {\n",
       "        vertical-align: top;\n",
       "    }\n",
       "\n",
       "    .dataframe thead th {\n",
       "        text-align: right;\n",
       "    }\n",
       "</style>\n",
       "<table border=\"1\" class=\"dataframe\">\n",
       "  <thead>\n",
       "    <tr style=\"text-align: right;\">\n",
       "      <th></th>\n",
       "      <th>Price</th>\n",
       "      <th>Close</th>\n",
       "      <th>High</th>\n",
       "      <th>Low</th>\n",
       "      <th>Open</th>\n",
       "      <th>Volume</th>\n",
       "    </tr>\n",
       "  </thead>\n",
       "  <tbody>\n",
       "    <tr>\n",
       "      <th>0</th>\n",
       "      <td>Ticker</td>\n",
       "      <td>AAPL</td>\n",
       "      <td>AAPL</td>\n",
       "      <td>AAPL</td>\n",
       "      <td>AAPL</td>\n",
       "      <td>AAPL</td>\n",
       "    </tr>\n",
       "    <tr>\n",
       "      <th>1</th>\n",
       "      <td>Datetime</td>\n",
       "      <td>NaN</td>\n",
       "      <td>NaN</td>\n",
       "      <td>NaN</td>\n",
       "      <td>NaN</td>\n",
       "      <td>NaN</td>\n",
       "    </tr>\n",
       "    <tr>\n",
       "      <th>2</th>\n",
       "      <td>2024-12-16 14:30:00+00:00</td>\n",
       "      <td>249.92660522460938</td>\n",
       "      <td>249.99000549316406</td>\n",
       "      <td>247.64999389648438</td>\n",
       "      <td>248.0</td>\n",
       "      <td>2747902</td>\n",
       "    </tr>\n",
       "    <tr>\n",
       "      <th>3</th>\n",
       "      <td>2024-12-16 14:35:00+00:00</td>\n",
       "      <td>249.7100067138672</td>\n",
       "      <td>249.97000122070312</td>\n",
       "      <td>249.47999572753906</td>\n",
       "      <td>249.9199981689453</td>\n",
       "      <td>577478</td>\n",
       "    </tr>\n",
       "    <tr>\n",
       "      <th>4</th>\n",
       "      <td>2024-12-16 14:40:00+00:00</td>\n",
       "      <td>249.6999969482422</td>\n",
       "      <td>250.0</td>\n",
       "      <td>249.4600067138672</td>\n",
       "      <td>249.6999969482422</td>\n",
       "      <td>453003</td>\n",
       "    </tr>\n",
       "  </tbody>\n",
       "</table>\n",
       "</div>"
      ],
      "text/plain": [
       "                       Price               Close                High  \\\n",
       "0                     Ticker                AAPL                AAPL   \n",
       "1                   Datetime                 NaN                 NaN   \n",
       "2  2024-12-16 14:30:00+00:00  249.92660522460938  249.99000549316406   \n",
       "3  2024-12-16 14:35:00+00:00   249.7100067138672  249.97000122070312   \n",
       "4  2024-12-16 14:40:00+00:00   249.6999969482422               250.0   \n",
       "\n",
       "                  Low               Open   Volume  \n",
       "0                AAPL               AAPL     AAPL  \n",
       "1                 NaN                NaN      NaN  \n",
       "2  247.64999389648438              248.0  2747902  \n",
       "3  249.47999572753906  249.9199981689453   577478  \n",
       "4   249.4600067138672  249.6999969482422   453003  "
      ]
     },
     "execution_count": 2,
     "metadata": {},
     "output_type": "execute_result"
    }
   ],
   "source": [
    "df=pd.read_csv(\"./OHVLC_5min/AAPL_OHVLC_5m.csv\")\n",
    "df.head()"
   ]
  },
  {
   "cell_type": "markdown",
   "metadata": {},
   "source": [
    "Here we can see in the collected data the columns and the first two rows are not in the way we want. So we have to fix this by droping the first two rows(Ticker indicating row, and the next row) and renaming the first column into \"Datetime\""
   ]
  },
  {
   "cell_type": "code",
   "execution_count": 4,
   "metadata": {},
   "outputs": [
    {
     "data": {
      "text/plain": [
       "(2852, 6)"
      ]
     },
     "execution_count": 4,
     "metadata": {},
     "output_type": "execute_result"
    }
   ],
   "source": [
    "df.shape"
   ]
  },
  {
   "cell_type": "code",
   "execution_count": 5,
   "metadata": {},
   "outputs": [
    {
     "data": {
      "text/html": [
       "<div>\n",
       "<style scoped>\n",
       "    .dataframe tbody tr th:only-of-type {\n",
       "        vertical-align: middle;\n",
       "    }\n",
       "\n",
       "    .dataframe tbody tr th {\n",
       "        vertical-align: top;\n",
       "    }\n",
       "\n",
       "    .dataframe thead th {\n",
       "        text-align: right;\n",
       "    }\n",
       "</style>\n",
       "<table border=\"1\" class=\"dataframe\">\n",
       "  <thead>\n",
       "    <tr style=\"text-align: right;\">\n",
       "      <th></th>\n",
       "      <th>Price</th>\n",
       "      <th>Close</th>\n",
       "      <th>High</th>\n",
       "      <th>Low</th>\n",
       "      <th>Open</th>\n",
       "      <th>Volume</th>\n",
       "    </tr>\n",
       "  </thead>\n",
       "  <tbody>\n",
       "    <tr>\n",
       "      <th>0</th>\n",
       "      <td>2024-12-16 14:30:00+00:00</td>\n",
       "      <td>249.92660522460938</td>\n",
       "      <td>249.99000549316406</td>\n",
       "      <td>247.64999389648438</td>\n",
       "      <td>248.0</td>\n",
       "      <td>2747902</td>\n",
       "    </tr>\n",
       "    <tr>\n",
       "      <th>1</th>\n",
       "      <td>2024-12-16 14:35:00+00:00</td>\n",
       "      <td>249.7100067138672</td>\n",
       "      <td>249.97000122070312</td>\n",
       "      <td>249.47999572753906</td>\n",
       "      <td>249.9199981689453</td>\n",
       "      <td>577478</td>\n",
       "    </tr>\n",
       "    <tr>\n",
       "      <th>2</th>\n",
       "      <td>2024-12-16 14:40:00+00:00</td>\n",
       "      <td>249.6999969482422</td>\n",
       "      <td>250.0</td>\n",
       "      <td>249.4600067138672</td>\n",
       "      <td>249.6999969482422</td>\n",
       "      <td>453003</td>\n",
       "    </tr>\n",
       "    <tr>\n",
       "      <th>3</th>\n",
       "      <td>2024-12-16 14:45:00+00:00</td>\n",
       "      <td>248.97000122070312</td>\n",
       "      <td>249.7899932861328</td>\n",
       "      <td>248.85000610351562</td>\n",
       "      <td>249.7100067138672</td>\n",
       "      <td>414881</td>\n",
       "    </tr>\n",
       "    <tr>\n",
       "      <th>4</th>\n",
       "      <td>2024-12-16 14:50:00+00:00</td>\n",
       "      <td>249.10000610351562</td>\n",
       "      <td>249.10000610351562</td>\n",
       "      <td>248.60000610351562</td>\n",
       "      <td>248.97999572753906</td>\n",
       "      <td>395577</td>\n",
       "    </tr>\n",
       "  </tbody>\n",
       "</table>\n",
       "</div>"
      ],
      "text/plain": [
       "                       Price               Close                High  \\\n",
       "0  2024-12-16 14:30:00+00:00  249.92660522460938  249.99000549316406   \n",
       "1  2024-12-16 14:35:00+00:00   249.7100067138672  249.97000122070312   \n",
       "2  2024-12-16 14:40:00+00:00   249.6999969482422               250.0   \n",
       "3  2024-12-16 14:45:00+00:00  248.97000122070312   249.7899932861328   \n",
       "4  2024-12-16 14:50:00+00:00  249.10000610351562  249.10000610351562   \n",
       "\n",
       "                  Low                Open   Volume  \n",
       "0  247.64999389648438               248.0  2747902  \n",
       "1  249.47999572753906   249.9199981689453   577478  \n",
       "2   249.4600067138672   249.6999969482422   453003  \n",
       "3  248.85000610351562   249.7100067138672   414881  \n",
       "4  248.60000610351562  248.97999572753906   395577  "
      ]
     },
     "execution_count": 5,
     "metadata": {},
     "output_type": "execute_result"
    }
   ],
   "source": [
    "df = df.iloc[2:].reset_index(drop=True)\n",
    "df.head()"
   ]
  },
  {
   "cell_type": "code",
   "execution_count": 7,
   "metadata": {},
   "outputs": [
    {
     "data": {
      "text/html": [
       "<div>\n",
       "<style scoped>\n",
       "    .dataframe tbody tr th:only-of-type {\n",
       "        vertical-align: middle;\n",
       "    }\n",
       "\n",
       "    .dataframe tbody tr th {\n",
       "        vertical-align: top;\n",
       "    }\n",
       "\n",
       "    .dataframe thead th {\n",
       "        text-align: right;\n",
       "    }\n",
       "</style>\n",
       "<table border=\"1\" class=\"dataframe\">\n",
       "  <thead>\n",
       "    <tr style=\"text-align: right;\">\n",
       "      <th></th>\n",
       "      <th>Datetime</th>\n",
       "      <th>Close</th>\n",
       "      <th>High</th>\n",
       "      <th>Low</th>\n",
       "      <th>Open</th>\n",
       "      <th>Volume</th>\n",
       "    </tr>\n",
       "  </thead>\n",
       "  <tbody>\n",
       "    <tr>\n",
       "      <th>0</th>\n",
       "      <td>2024-12-16 14:30:00+00:00</td>\n",
       "      <td>249.92660522460938</td>\n",
       "      <td>249.99000549316406</td>\n",
       "      <td>247.64999389648438</td>\n",
       "      <td>248.0</td>\n",
       "      <td>2747902</td>\n",
       "    </tr>\n",
       "    <tr>\n",
       "      <th>1</th>\n",
       "      <td>2024-12-16 14:35:00+00:00</td>\n",
       "      <td>249.7100067138672</td>\n",
       "      <td>249.97000122070312</td>\n",
       "      <td>249.47999572753906</td>\n",
       "      <td>249.9199981689453</td>\n",
       "      <td>577478</td>\n",
       "    </tr>\n",
       "    <tr>\n",
       "      <th>2</th>\n",
       "      <td>2024-12-16 14:40:00+00:00</td>\n",
       "      <td>249.6999969482422</td>\n",
       "      <td>250.0</td>\n",
       "      <td>249.4600067138672</td>\n",
       "      <td>249.6999969482422</td>\n",
       "      <td>453003</td>\n",
       "    </tr>\n",
       "    <tr>\n",
       "      <th>3</th>\n",
       "      <td>2024-12-16 14:45:00+00:00</td>\n",
       "      <td>248.97000122070312</td>\n",
       "      <td>249.7899932861328</td>\n",
       "      <td>248.85000610351562</td>\n",
       "      <td>249.7100067138672</td>\n",
       "      <td>414881</td>\n",
       "    </tr>\n",
       "    <tr>\n",
       "      <th>4</th>\n",
       "      <td>2024-12-16 14:50:00+00:00</td>\n",
       "      <td>249.10000610351562</td>\n",
       "      <td>249.10000610351562</td>\n",
       "      <td>248.60000610351562</td>\n",
       "      <td>248.97999572753906</td>\n",
       "      <td>395577</td>\n",
       "    </tr>\n",
       "  </tbody>\n",
       "</table>\n",
       "</div>"
      ],
      "text/plain": [
       "                    Datetime               Close                High  \\\n",
       "0  2024-12-16 14:30:00+00:00  249.92660522460938  249.99000549316406   \n",
       "1  2024-12-16 14:35:00+00:00   249.7100067138672  249.97000122070312   \n",
       "2  2024-12-16 14:40:00+00:00   249.6999969482422               250.0   \n",
       "3  2024-12-16 14:45:00+00:00  248.97000122070312   249.7899932861328   \n",
       "4  2024-12-16 14:50:00+00:00  249.10000610351562  249.10000610351562   \n",
       "\n",
       "                  Low                Open   Volume  \n",
       "0  247.64999389648438               248.0  2747902  \n",
       "1  249.47999572753906   249.9199981689453   577478  \n",
       "2   249.4600067138672   249.6999969482422   453003  \n",
       "3  248.85000610351562   249.7100067138672   414881  \n",
       "4  248.60000610351562  248.97999572753906   395577  "
      ]
     },
     "execution_count": 7,
     "metadata": {},
     "output_type": "execute_result"
    }
   ],
   "source": [
    "df = df.rename(columns={'Price': 'Datetime'})\n",
    "df.head()"
   ]
  },
  {
   "cell_type": "code",
   "execution_count": 8,
   "metadata": {},
   "outputs": [
    {
     "name": "stdout",
     "output_type": "stream",
     "text": [
      "Datetime    object\n",
      "Close       object\n",
      "High        object\n",
      "Low         object\n",
      "Open        object\n",
      "Volume      object\n",
      "dtype: object\n"
     ]
    }
   ],
   "source": [
    "print(df.dtypes)"
   ]
  },
  {
   "cell_type": "markdown",
   "metadata": {},
   "source": [
    "We have to convert datatypes of these columns"
   ]
  },
  {
   "cell_type": "code",
   "execution_count": 12,
   "metadata": {},
   "outputs": [
    {
     "name": "stdout",
     "output_type": "stream",
     "text": [
      "Datetime    datetime64[ns]\n",
      "Close              float64\n",
      "High               float64\n",
      "Low                float64\n",
      "Open               float64\n",
      "Volume               int64\n",
      "dtype: object\n"
     ]
    }
   ],
   "source": [
    "# Convert Datetime column to datetime type\n",
    "df['Datetime'] = pd.to_datetime(df['Datetime'], errors='coerce')\n",
    "# remove the timezone and convert it to a naive datetime format\n",
    "df['Datetime'] = df['Datetime'].dt.tz_localize(None)\n",
    "\n",
    "# Convert numeric columns\n",
    "numeric_columns = ['High', 'Low', 'Open', 'Close', 'Volume']\n",
    "for col in numeric_columns:\n",
    "    df[col] = pd.to_numeric(df[col], errors='coerce')\n",
    "\n",
    "# Verify data types\n",
    "print(df.dtypes)"
   ]
  },
  {
   "cell_type": "code",
   "execution_count": 13,
   "metadata": {},
   "outputs": [
    {
     "data": {
      "text/html": [
       "<div>\n",
       "<style scoped>\n",
       "    .dataframe tbody tr th:only-of-type {\n",
       "        vertical-align: middle;\n",
       "    }\n",
       "\n",
       "    .dataframe tbody tr th {\n",
       "        vertical-align: top;\n",
       "    }\n",
       "\n",
       "    .dataframe thead th {\n",
       "        text-align: right;\n",
       "    }\n",
       "</style>\n",
       "<table border=\"1\" class=\"dataframe\">\n",
       "  <thead>\n",
       "    <tr style=\"text-align: right;\">\n",
       "      <th></th>\n",
       "      <th>Datetime</th>\n",
       "      <th>Close</th>\n",
       "      <th>High</th>\n",
       "      <th>Low</th>\n",
       "      <th>Open</th>\n",
       "      <th>Volume</th>\n",
       "    </tr>\n",
       "  </thead>\n",
       "  <tbody>\n",
       "    <tr>\n",
       "      <th>2845</th>\n",
       "      <td>2025-02-10 20:35:00</td>\n",
       "      <td>227.469894</td>\n",
       "      <td>227.548706</td>\n",
       "      <td>227.199997</td>\n",
       "      <td>227.539993</td>\n",
       "      <td>563288</td>\n",
       "    </tr>\n",
       "    <tr>\n",
       "      <th>2846</th>\n",
       "      <td>2025-02-10 20:40:00</td>\n",
       "      <td>227.481995</td>\n",
       "      <td>227.759995</td>\n",
       "      <td>227.429993</td>\n",
       "      <td>227.459900</td>\n",
       "      <td>339000</td>\n",
       "    </tr>\n",
       "    <tr>\n",
       "      <th>2847</th>\n",
       "      <td>2025-02-10 20:45:00</td>\n",
       "      <td>227.619995</td>\n",
       "      <td>227.644608</td>\n",
       "      <td>227.300003</td>\n",
       "      <td>227.475006</td>\n",
       "      <td>354610</td>\n",
       "    </tr>\n",
       "    <tr>\n",
       "      <th>2848</th>\n",
       "      <td>2025-02-10 20:50:00</td>\n",
       "      <td>227.679901</td>\n",
       "      <td>227.880005</td>\n",
       "      <td>227.250000</td>\n",
       "      <td>227.610001</td>\n",
       "      <td>674891</td>\n",
       "    </tr>\n",
       "    <tr>\n",
       "      <th>2849</th>\n",
       "      <td>2025-02-10 20:55:00</td>\n",
       "      <td>227.639999</td>\n",
       "      <td>227.750000</td>\n",
       "      <td>227.429993</td>\n",
       "      <td>227.630005</td>\n",
       "      <td>1249545</td>\n",
       "    </tr>\n",
       "  </tbody>\n",
       "</table>\n",
       "</div>"
      ],
      "text/plain": [
       "                Datetime       Close        High         Low        Open  \\\n",
       "2845 2025-02-10 20:35:00  227.469894  227.548706  227.199997  227.539993   \n",
       "2846 2025-02-10 20:40:00  227.481995  227.759995  227.429993  227.459900   \n",
       "2847 2025-02-10 20:45:00  227.619995  227.644608  227.300003  227.475006   \n",
       "2848 2025-02-10 20:50:00  227.679901  227.880005  227.250000  227.610001   \n",
       "2849 2025-02-10 20:55:00  227.639999  227.750000  227.429993  227.630005   \n",
       "\n",
       "       Volume  \n",
       "2845   563288  \n",
       "2846   339000  \n",
       "2847   354610  \n",
       "2848   674891  \n",
       "2849  1249545  "
      ]
     },
     "execution_count": 13,
     "metadata": {},
     "output_type": "execute_result"
    }
   ],
   "source": [
    "df.tail()"
   ]
  },
  {
   "cell_type": "code",
   "execution_count": 14,
   "metadata": {},
   "outputs": [
    {
     "name": "stdout",
     "output_type": "stream",
     "text": [
      "<class 'pandas.core.frame.DataFrame'>\n",
      "RangeIndex: 2850 entries, 0 to 2849\n",
      "Data columns (total 6 columns):\n",
      " #   Column    Non-Null Count  Dtype         \n",
      "---  ------    --------------  -----         \n",
      " 0   Datetime  2850 non-null   datetime64[ns]\n",
      " 1   Close     2850 non-null   float64       \n",
      " 2   High      2850 non-null   float64       \n",
      " 3   Low       2850 non-null   float64       \n",
      " 4   Open      2850 non-null   float64       \n",
      " 5   Volume    2850 non-null   int64         \n",
      "dtypes: datetime64[ns](1), float64(4), int64(1)\n",
      "memory usage: 133.7 KB\n"
     ]
    }
   ],
   "source": [
    "df.info()"
   ]
  },
  {
   "cell_type": "markdown",
   "metadata": {},
   "source": [
    "## Python Script"
   ]
  },
  {
   "cell_type": "code",
   "execution_count": 15,
   "metadata": {},
   "outputs": [
    {
     "name": "stdout",
     "output_type": "stream",
     "text": [
      "Processed and saved: d:\\ACADEMICS\\UOM\\FYP\\Repo\\Intellitrade\\Turning_Points_Forecasting\\Cleaned_data\\AAPL_OHVLC_5m.csv\n",
      "Processed and saved: d:\\ACADEMICS\\UOM\\FYP\\Repo\\Intellitrade\\Turning_Points_Forecasting\\Cleaned_data\\AMZN_OHVLC_5m.csv\n",
      "Processed and saved: d:\\ACADEMICS\\UOM\\FYP\\Repo\\Intellitrade\\Turning_Points_Forecasting\\Cleaned_data\\BABA_OHVLC_5m.csv\n",
      "Processed and saved: d:\\ACADEMICS\\UOM\\FYP\\Repo\\Intellitrade\\Turning_Points_Forecasting\\Cleaned_data\\BHAT_OHVLC_5m.csv\n",
      "Processed and saved: d:\\ACADEMICS\\UOM\\FYP\\Repo\\Intellitrade\\Turning_Points_Forecasting\\Cleaned_data\\GOOGL_OHVLC_5m.csv\n",
      "Processed and saved: d:\\ACADEMICS\\UOM\\FYP\\Repo\\Intellitrade\\Turning_Points_Forecasting\\Cleaned_data\\INTC_OHVLC_5m.csv\n",
      "Processed and saved: d:\\ACADEMICS\\UOM\\FYP\\Repo\\Intellitrade\\Turning_Points_Forecasting\\Cleaned_data\\META_OHVLC_5m.csv\n",
      "Processed and saved: d:\\ACADEMICS\\UOM\\FYP\\Repo\\Intellitrade\\Turning_Points_Forecasting\\Cleaned_data\\MSFT_OHVLC_5m.csv\n",
      "Processed and saved: d:\\ACADEMICS\\UOM\\FYP\\Repo\\Intellitrade\\Turning_Points_Forecasting\\Cleaned_data\\NFLX_OHVLC_5m.csv\n",
      "Processed and saved: d:\\ACADEMICS\\UOM\\FYP\\Repo\\Intellitrade\\Turning_Points_Forecasting\\Cleaned_data\\NVDA_OHVLC_5m.csv\n",
      "Processed and saved: d:\\ACADEMICS\\UOM\\FYP\\Repo\\Intellitrade\\Turning_Points_Forecasting\\Cleaned_data\\PLTR_OHVLC_5m.csv\n",
      "Processed and saved: d:\\ACADEMICS\\UOM\\FYP\\Repo\\Intellitrade\\Turning_Points_Forecasting\\Cleaned_data\\QQQ_OHVLC_5m.csv\n",
      "Processed and saved: d:\\ACADEMICS\\UOM\\FYP\\Repo\\Intellitrade\\Turning_Points_Forecasting\\Cleaned_data\\SHOP_OHVLC_5m.csv\n",
      "Processed and saved: d:\\ACADEMICS\\UOM\\FYP\\Repo\\Intellitrade\\Turning_Points_Forecasting\\Cleaned_data\\SPY_OHVLC_5m.csv\n",
      "Processed and saved: d:\\ACADEMICS\\UOM\\FYP\\Repo\\Intellitrade\\Turning_Points_Forecasting\\Cleaned_data\\TSLA_OHVLC_5m.csv\n",
      "All CSV files have been cleaned and saved successfully.\n"
     ]
    }
   ],
   "source": [
    "import pandas as pd\n",
    "import os\n",
    "\n",
    "# Define the folder containing CSV files\n",
    "# Raw data root\n",
    "raw_data_root = os.getcwd()\n",
    "dataset_folder = os.path.join(raw_data_root, \"OHVLC_5min\")\n",
    "output_folder = os.path.join(raw_data_root, \"Cleaned_data\")  # Folder to save cleaned files\n",
    "\n",
    "# Ensure output folder exists\n",
    "os.makedirs(output_folder, exist_ok=True)\n",
    "\n",
    "# List all CSV files in the folder\n",
    "csv_files = [f for f in os.listdir(dataset_folder) if f.endswith(\".csv\")]\n",
    "\n",
    "# Process each CSV file\n",
    "for file in csv_files:\n",
    "    file_path = os.path.join(dataset_folder, file)\n",
    "    \n",
    "    # Read the CSV file\n",
    "    df = pd.read_csv(file_path)\n",
    "    \n",
    "    # Remove first two rows and reset index\n",
    "    df = df.iloc[2:].reset_index(drop=True)\n",
    "\n",
    "    # Rename the \"Price\" column to \"Datetime\"\n",
    "    df = df.rename(columns={'Price': 'Datetime'})\n",
    "    \n",
    "    # Convert \"Datetime\" column to datetime type\n",
    "    df['Datetime'] = pd.to_datetime(df['Datetime'], errors='coerce')\n",
    "    \n",
    "    # Remove timezone information\n",
    "    df['Datetime'] = df['Datetime'].dt.tz_localize(None)\n",
    "\n",
    "    # Convert numeric columns\n",
    "    numeric_columns = ['High', 'Low', 'Open', 'Close', 'Volume']\n",
    "    for col in numeric_columns:\n",
    "        df[col] = pd.to_numeric(df[col], errors='coerce')\n",
    "\n",
    "    # Save the cleaned file\n",
    "    cleaned_file_path = os.path.join(output_folder, file)\n",
    "    df.to_csv(cleaned_file_path, index=False)\n",
    "    \n",
    "    print(f\"Processed and saved: {cleaned_file_path}\")\n",
    "\n",
    "print(\"All CSV files have been cleaned and saved successfully.\")\n"
   ]
  }
 ],
 "metadata": {
  "kernelspec": {
   "display_name": "base",
   "language": "python",
   "name": "python3"
  },
  "language_info": {
   "codemirror_mode": {
    "name": "ipython",
    "version": 3
   },
   "file_extension": ".py",
   "mimetype": "text/x-python",
   "name": "python",
   "nbconvert_exporter": "python",
   "pygments_lexer": "ipython3",
   "version": "3.11.5"
  }
 },
 "nbformat": 4,
 "nbformat_minor": 2
}
