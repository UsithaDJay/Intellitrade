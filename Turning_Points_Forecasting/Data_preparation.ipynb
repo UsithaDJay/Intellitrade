{
 "cells": [
  {
   "cell_type": "code",
   "execution_count": 1,
   "metadata": {},
   "outputs": [],
   "source": [
    "import pandas as pd"
   ]
  },
  {
   "cell_type": "code",
   "execution_count": 2,
   "metadata": {},
   "outputs": [
    {
     "data": {
      "text/html": [
       "<div>\n",
       "<style scoped>\n",
       "    .dataframe tbody tr th:only-of-type {\n",
       "        vertical-align: middle;\n",
       "    }\n",
       "\n",
       "    .dataframe tbody tr th {\n",
       "        vertical-align: top;\n",
       "    }\n",
       "\n",
       "    .dataframe thead th {\n",
       "        text-align: right;\n",
       "    }\n",
       "</style>\n",
       "<table border=\"1\" class=\"dataframe\">\n",
       "  <thead>\n",
       "    <tr style=\"text-align: right;\">\n",
       "      <th></th>\n",
       "      <th>Price</th>\n",
       "      <th>Close</th>\n",
       "      <th>High</th>\n",
       "      <th>Low</th>\n",
       "      <th>Open</th>\n",
       "      <th>Volume</th>\n",
       "    </tr>\n",
       "  </thead>\n",
       "  <tbody>\n",
       "    <tr>\n",
       "      <th>0</th>\n",
       "      <td>Ticker</td>\n",
       "      <td>AAPL</td>\n",
       "      <td>AAPL</td>\n",
       "      <td>AAPL</td>\n",
       "      <td>AAPL</td>\n",
       "      <td>AAPL</td>\n",
       "    </tr>\n",
       "    <tr>\n",
       "      <th>1</th>\n",
       "      <td>Datetime</td>\n",
       "      <td>NaN</td>\n",
       "      <td>NaN</td>\n",
       "      <td>NaN</td>\n",
       "      <td>NaN</td>\n",
       "      <td>NaN</td>\n",
       "    </tr>\n",
       "    <tr>\n",
       "      <th>2</th>\n",
       "      <td>2024-12-16 14:30:00+00:00</td>\n",
       "      <td>249.92660522460938</td>\n",
       "      <td>249.99000549316406</td>\n",
       "      <td>247.64999389648438</td>\n",
       "      <td>248.0</td>\n",
       "      <td>2747902</td>\n",
       "    </tr>\n",
       "    <tr>\n",
       "      <th>3</th>\n",
       "      <td>2024-12-16 14:35:00+00:00</td>\n",
       "      <td>249.7100067138672</td>\n",
       "      <td>249.97000122070312</td>\n",
       "      <td>249.47999572753906</td>\n",
       "      <td>249.9199981689453</td>\n",
       "      <td>577478</td>\n",
       "    </tr>\n",
       "    <tr>\n",
       "      <th>4</th>\n",
       "      <td>2024-12-16 14:40:00+00:00</td>\n",
       "      <td>249.6999969482422</td>\n",
       "      <td>250.0</td>\n",
       "      <td>249.4600067138672</td>\n",
       "      <td>249.6999969482422</td>\n",
       "      <td>453003</td>\n",
       "    </tr>\n",
       "  </tbody>\n",
       "</table>\n",
       "</div>"
      ],
      "text/plain": [
       "                       Price               Close                High  \\\n",
       "0                     Ticker                AAPL                AAPL   \n",
       "1                   Datetime                 NaN                 NaN   \n",
       "2  2024-12-16 14:30:00+00:00  249.92660522460938  249.99000549316406   \n",
       "3  2024-12-16 14:35:00+00:00   249.7100067138672  249.97000122070312   \n",
       "4  2024-12-16 14:40:00+00:00   249.6999969482422               250.0   \n",
       "\n",
       "                  Low               Open   Volume  \n",
       "0                AAPL               AAPL     AAPL  \n",
       "1                 NaN                NaN      NaN  \n",
       "2  247.64999389648438              248.0  2747902  \n",
       "3  249.47999572753906  249.9199981689453   577478  \n",
       "4   249.4600067138672  249.6999969482422   453003  "
      ]
     },
     "execution_count": 2,
     "metadata": {},
     "output_type": "execute_result"
    }
   ],
   "source": [
    "df=pd.read_csv(\"./OHVLC_5min/AAPL_OHVLC_5m.csv\")\n",
    "df.head()"
   ]
  },
  {
   "cell_type": "markdown",
   "metadata": {},
   "source": [
    "Here we can see in the collected data the columns and the first two rows are not in the way we want. So we have to fix this by droping the first two rows(Ticker indicating row, and the next row) and renaming the first column into \"Datetime\""
   ]
  },
  {
   "cell_type": "code",
   "execution_count": 4,
   "metadata": {},
   "outputs": [
    {
     "data": {
      "text/plain": [
       "(2852, 6)"
      ]
     },
     "execution_count": 4,
     "metadata": {},
     "output_type": "execute_result"
    }
   ],
   "source": [
    "df.shape"
   ]
  },
  {
   "cell_type": "code",
   "execution_count": 5,
   "metadata": {},
   "outputs": [
    {
     "data": {
      "text/html": [
       "<div>\n",
       "<style scoped>\n",
       "    .dataframe tbody tr th:only-of-type {\n",
       "        vertical-align: middle;\n",
       "    }\n",
       "\n",
       "    .dataframe tbody tr th {\n",
       "        vertical-align: top;\n",
       "    }\n",
       "\n",
       "    .dataframe thead th {\n",
       "        text-align: right;\n",
       "    }\n",
       "</style>\n",
       "<table border=\"1\" class=\"dataframe\">\n",
       "  <thead>\n",
       "    <tr style=\"text-align: right;\">\n",
       "      <th></th>\n",
       "      <th>Price</th>\n",
       "      <th>Close</th>\n",
       "      <th>High</th>\n",
       "      <th>Low</th>\n",
       "      <th>Open</th>\n",
       "      <th>Volume</th>\n",
       "    </tr>\n",
       "  </thead>\n",
       "  <tbody>\n",
       "    <tr>\n",
       "      <th>0</th>\n",
       "      <td>2024-12-16 14:30:00+00:00</td>\n",
       "      <td>249.92660522460938</td>\n",
       "      <td>249.99000549316406</td>\n",
       "      <td>247.64999389648438</td>\n",
       "      <td>248.0</td>\n",
       "      <td>2747902</td>\n",
       "    </tr>\n",
       "    <tr>\n",
       "      <th>1</th>\n",
       "      <td>2024-12-16 14:35:00+00:00</td>\n",
       "      <td>249.7100067138672</td>\n",
       "      <td>249.97000122070312</td>\n",
       "      <td>249.47999572753906</td>\n",
       "      <td>249.9199981689453</td>\n",
       "      <td>577478</td>\n",
       "    </tr>\n",
       "    <tr>\n",
       "      <th>2</th>\n",
       "      <td>2024-12-16 14:40:00+00:00</td>\n",
       "      <td>249.6999969482422</td>\n",
       "      <td>250.0</td>\n",
       "      <td>249.4600067138672</td>\n",
       "      <td>249.6999969482422</td>\n",
       "      <td>453003</td>\n",
       "    </tr>\n",
       "    <tr>\n",
       "      <th>3</th>\n",
       "      <td>2024-12-16 14:45:00+00:00</td>\n",
       "      <td>248.97000122070312</td>\n",
       "      <td>249.7899932861328</td>\n",
       "      <td>248.85000610351562</td>\n",
       "      <td>249.7100067138672</td>\n",
       "      <td>414881</td>\n",
       "    </tr>\n",
       "    <tr>\n",
       "      <th>4</th>\n",
       "      <td>2024-12-16 14:50:00+00:00</td>\n",
       "      <td>249.10000610351562</td>\n",
       "      <td>249.10000610351562</td>\n",
       "      <td>248.60000610351562</td>\n",
       "      <td>248.97999572753906</td>\n",
       "      <td>395577</td>\n",
       "    </tr>\n",
       "  </tbody>\n",
       "</table>\n",
       "</div>"
      ],
      "text/plain": [
       "                       Price               Close                High  \\\n",
       "0  2024-12-16 14:30:00+00:00  249.92660522460938  249.99000549316406   \n",
       "1  2024-12-16 14:35:00+00:00   249.7100067138672  249.97000122070312   \n",
       "2  2024-12-16 14:40:00+00:00   249.6999969482422               250.0   \n",
       "3  2024-12-16 14:45:00+00:00  248.97000122070312   249.7899932861328   \n",
       "4  2024-12-16 14:50:00+00:00  249.10000610351562  249.10000610351562   \n",
       "\n",
       "                  Low                Open   Volume  \n",
       "0  247.64999389648438               248.0  2747902  \n",
       "1  249.47999572753906   249.9199981689453   577478  \n",
       "2   249.4600067138672   249.6999969482422   453003  \n",
       "3  248.85000610351562   249.7100067138672   414881  \n",
       "4  248.60000610351562  248.97999572753906   395577  "
      ]
     },
     "execution_count": 5,
     "metadata": {},
     "output_type": "execute_result"
    }
   ],
   "source": [
    "df = df.iloc[2:].reset_index(drop=True)\n",
    "df.head()"
   ]
  },
  {
   "cell_type": "code",
   "execution_count": 7,
   "metadata": {},
   "outputs": [
    {
     "data": {
      "text/html": [
       "<div>\n",
       "<style scoped>\n",
       "    .dataframe tbody tr th:only-of-type {\n",
       "        vertical-align: middle;\n",
       "    }\n",
       "\n",
       "    .dataframe tbody tr th {\n",
       "        vertical-align: top;\n",
       "    }\n",
       "\n",
       "    .dataframe thead th {\n",
       "        text-align: right;\n",
       "    }\n",
       "</style>\n",
       "<table border=\"1\" class=\"dataframe\">\n",
       "  <thead>\n",
       "    <tr style=\"text-align: right;\">\n",
       "      <th></th>\n",
       "      <th>Datetime</th>\n",
       "      <th>Close</th>\n",
       "      <th>High</th>\n",
       "      <th>Low</th>\n",
       "      <th>Open</th>\n",
       "      <th>Volume</th>\n",
       "    </tr>\n",
       "  </thead>\n",
       "  <tbody>\n",
       "    <tr>\n",
       "      <th>0</th>\n",
       "      <td>2024-12-16 14:30:00+00:00</td>\n",
       "      <td>249.92660522460938</td>\n",
       "      <td>249.99000549316406</td>\n",
       "      <td>247.64999389648438</td>\n",
       "      <td>248.0</td>\n",
       "      <td>2747902</td>\n",
       "    </tr>\n",
       "    <tr>\n",
       "      <th>1</th>\n",
       "      <td>2024-12-16 14:35:00+00:00</td>\n",
       "      <td>249.7100067138672</td>\n",
       "      <td>249.97000122070312</td>\n",
       "      <td>249.47999572753906</td>\n",
       "      <td>249.9199981689453</td>\n",
       "      <td>577478</td>\n",
       "    </tr>\n",
       "    <tr>\n",
       "      <th>2</th>\n",
       "      <td>2024-12-16 14:40:00+00:00</td>\n",
       "      <td>249.6999969482422</td>\n",
       "      <td>250.0</td>\n",
       "      <td>249.4600067138672</td>\n",
       "      <td>249.6999969482422</td>\n",
       "      <td>453003</td>\n",
       "    </tr>\n",
       "    <tr>\n",
       "      <th>3</th>\n",
       "      <td>2024-12-16 14:45:00+00:00</td>\n",
       "      <td>248.97000122070312</td>\n",
       "      <td>249.7899932861328</td>\n",
       "      <td>248.85000610351562</td>\n",
       "      <td>249.7100067138672</td>\n",
       "      <td>414881</td>\n",
       "    </tr>\n",
       "    <tr>\n",
       "      <th>4</th>\n",
       "      <td>2024-12-16 14:50:00+00:00</td>\n",
       "      <td>249.10000610351562</td>\n",
       "      <td>249.10000610351562</td>\n",
       "      <td>248.60000610351562</td>\n",
       "      <td>248.97999572753906</td>\n",
       "      <td>395577</td>\n",
       "    </tr>\n",
       "  </tbody>\n",
       "</table>\n",
       "</div>"
      ],
      "text/plain": [
       "                    Datetime               Close                High  \\\n",
       "0  2024-12-16 14:30:00+00:00  249.92660522460938  249.99000549316406   \n",
       "1  2024-12-16 14:35:00+00:00   249.7100067138672  249.97000122070312   \n",
       "2  2024-12-16 14:40:00+00:00   249.6999969482422               250.0   \n",
       "3  2024-12-16 14:45:00+00:00  248.97000122070312   249.7899932861328   \n",
       "4  2024-12-16 14:50:00+00:00  249.10000610351562  249.10000610351562   \n",
       "\n",
       "                  Low                Open   Volume  \n",
       "0  247.64999389648438               248.0  2747902  \n",
       "1  249.47999572753906   249.9199981689453   577478  \n",
       "2   249.4600067138672   249.6999969482422   453003  \n",
       "3  248.85000610351562   249.7100067138672   414881  \n",
       "4  248.60000610351562  248.97999572753906   395577  "
      ]
     },
     "execution_count": 7,
     "metadata": {},
     "output_type": "execute_result"
    }
   ],
   "source": [
    "df = df.rename(columns={'Price': 'Datetime'})\n",
    "df.head()"
   ]
  },
  {
   "cell_type": "code",
   "execution_count": 8,
   "metadata": {},
   "outputs": [
    {
     "name": "stdout",
     "output_type": "stream",
     "text": [
      "Datetime    object\n",
      "Close       object\n",
      "High        object\n",
      "Low         object\n",
      "Open        object\n",
      "Volume      object\n",
      "dtype: object\n"
     ]
    }
   ],
   "source": [
    "print(df.dtypes)"
   ]
  },
  {
   "cell_type": "markdown",
   "metadata": {},
   "source": [
    "We have to convert datatypes of these columns"
   ]
  },
  {
   "cell_type": "code",
   "execution_count": 12,
   "metadata": {},
   "outputs": [
    {
     "name": "stdout",
     "output_type": "stream",
     "text": [
      "Datetime    datetime64[ns]\n",
      "Close              float64\n",
      "High               float64\n",
      "Low                float64\n",
      "Open               float64\n",
      "Volume               int64\n",
      "dtype: object\n"
     ]
    }
   ],
   "source": [
    "# Convert Datetime column to datetime type\n",
    "df['Datetime'] = pd.to_datetime(df['Datetime'], errors='coerce')\n",
    "# remove the timezone and convert it to a naive datetime format\n",
    "df['Datetime'] = df['Datetime'].dt.tz_localize(None)\n",
    "\n",
    "# Convert numeric columns\n",
    "numeric_columns = ['High', 'Low', 'Open', 'Close', 'Volume']\n",
    "for col in numeric_columns:\n",
    "    df[col] = pd.to_numeric(df[col], errors='coerce')\n",
    "\n",
    "# Verify data types\n",
    "print(df.dtypes)"
   ]
  },
  {
   "cell_type": "code",
   "execution_count": 13,
   "metadata": {},
   "outputs": [
    {
     "data": {
      "text/html": [
       "<div>\n",
       "<style scoped>\n",
       "    .dataframe tbody tr th:only-of-type {\n",
       "        vertical-align: middle;\n",
       "    }\n",
       "\n",
       "    .dataframe tbody tr th {\n",
       "        vertical-align: top;\n",
       "    }\n",
       "\n",
       "    .dataframe thead th {\n",
       "        text-align: right;\n",
       "    }\n",
       "</style>\n",
       "<table border=\"1\" class=\"dataframe\">\n",
       "  <thead>\n",
       "    <tr style=\"text-align: right;\">\n",
       "      <th></th>\n",
       "      <th>Datetime</th>\n",
       "      <th>Close</th>\n",
       "      <th>High</th>\n",
       "      <th>Low</th>\n",
       "      <th>Open</th>\n",
       "      <th>Volume</th>\n",
       "    </tr>\n",
       "  </thead>\n",
       "  <tbody>\n",
       "    <tr>\n",
       "      <th>2845</th>\n",
       "      <td>2025-02-10 20:35:00</td>\n",
       "      <td>227.469894</td>\n",
       "      <td>227.548706</td>\n",
       "      <td>227.199997</td>\n",
       "      <td>227.539993</td>\n",
       "      <td>563288</td>\n",
       "    </tr>\n",
       "    <tr>\n",
       "      <th>2846</th>\n",
       "      <td>2025-02-10 20:40:00</td>\n",
       "      <td>227.481995</td>\n",
       "      <td>227.759995</td>\n",
       "      <td>227.429993</td>\n",
       "      <td>227.459900</td>\n",
       "      <td>339000</td>\n",
       "    </tr>\n",
       "    <tr>\n",
       "      <th>2847</th>\n",
       "      <td>2025-02-10 20:45:00</td>\n",
       "      <td>227.619995</td>\n",
       "      <td>227.644608</td>\n",
       "      <td>227.300003</td>\n",
       "      <td>227.475006</td>\n",
       "      <td>354610</td>\n",
       "    </tr>\n",
       "    <tr>\n",
       "      <th>2848</th>\n",
       "      <td>2025-02-10 20:50:00</td>\n",
       "      <td>227.679901</td>\n",
       "      <td>227.880005</td>\n",
       "      <td>227.250000</td>\n",
       "      <td>227.610001</td>\n",
       "      <td>674891</td>\n",
       "    </tr>\n",
       "    <tr>\n",
       "      <th>2849</th>\n",
       "      <td>2025-02-10 20:55:00</td>\n",
       "      <td>227.639999</td>\n",
       "      <td>227.750000</td>\n",
       "      <td>227.429993</td>\n",
       "      <td>227.630005</td>\n",
       "      <td>1249545</td>\n",
       "    </tr>\n",
       "  </tbody>\n",
       "</table>\n",
       "</div>"
      ],
      "text/plain": [
       "                Datetime       Close        High         Low        Open  \\\n",
       "2845 2025-02-10 20:35:00  227.469894  227.548706  227.199997  227.539993   \n",
       "2846 2025-02-10 20:40:00  227.481995  227.759995  227.429993  227.459900   \n",
       "2847 2025-02-10 20:45:00  227.619995  227.644608  227.300003  227.475006   \n",
       "2848 2025-02-10 20:50:00  227.679901  227.880005  227.250000  227.610001   \n",
       "2849 2025-02-10 20:55:00  227.639999  227.750000  227.429993  227.630005   \n",
       "\n",
       "       Volume  \n",
       "2845   563288  \n",
       "2846   339000  \n",
       "2847   354610  \n",
       "2848   674891  \n",
       "2849  1249545  "
      ]
     },
     "execution_count": 13,
     "metadata": {},
     "output_type": "execute_result"
    }
   ],
   "source": [
    "df.tail()"
   ]
  }
 ],
 "metadata": {
  "kernelspec": {
   "display_name": "base",
   "language": "python",
   "name": "python3"
  },
  "language_info": {
   "codemirror_mode": {
    "name": "ipython",
    "version": 3
   },
   "file_extension": ".py",
   "mimetype": "text/x-python",
   "name": "python",
   "nbconvert_exporter": "python",
   "pygments_lexer": "ipython3",
   "version": "3.11.5"
  }
 },
 "nbformat": 4,
 "nbformat_minor": 2
}
