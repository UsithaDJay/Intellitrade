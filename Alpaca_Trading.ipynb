{
 "cells": [
  {
   "cell_type": "markdown",
   "metadata": {},
   "source": [
    "Ref: https://alpaca.markets/learn/start-paper-trading"
   ]
  },
  {
   "cell_type": "code",
   "execution_count": 1,
   "metadata": {},
   "outputs": [
    {
     "name": "stdout",
     "output_type": "stream",
     "text": [
      "Collecting alpaca-py"
     ]
    },
    {
     "name": "stderr",
     "output_type": "stream",
     "text": [
      "ERROR: pip's dependency resolver does not currently take into account all the packages that are installed. This behaviour is the source of the following dependency conflicts.\n",
      "anaconda-cloud-auth 0.1.3 requires pydantic<2.0, but you have pydantic 2.10.5 which is incompatible.\n"
     ]
    },
    {
     "name": "stdout",
     "output_type": "stream",
     "text": [
      "\n",
      "  Obtaining dependency information for alpaca-py from https://files.pythonhosted.org/packages/e7/c8/c10d049414682b6e0ec5616a743a7a3814dfbd8fd494161e757c1e247384/alpaca_py-0.35.1-py3-none-any.whl.metadata\n",
      "  Downloading alpaca_py-0.35.1-py3-none-any.whl.metadata (12 kB)\n",
      "Requirement already satisfied: requests in c:\\users\\usith\\anaconda3\\lib\\site-packages (2.31.0)\n",
      "Requirement already satisfied: msgpack<2.0.0,>=1.0.3 in c:\\users\\usith\\anaconda3\\lib\\site-packages (from alpaca-py) (1.0.3)\n",
      "Requirement already satisfied: pandas>=1.5.3 in c:\\users\\usith\\anaconda3\\lib\\site-packages (from alpaca-py) (2.2.1)\n",
      "Collecting pydantic<3.0.0,>=2.0.3 (from alpaca-py)\n",
      "  Obtaining dependency information for pydantic<3.0.0,>=2.0.3 from https://files.pythonhosted.org/packages/58/26/82663c79010b28eddf29dcdd0ea723439535fa917fce5905885c0e9ba562/pydantic-2.10.5-py3-none-any.whl.metadata\n",
      "  Downloading pydantic-2.10.5-py3-none-any.whl.metadata (30 kB)\n",
      "Collecting sseclient-py<2.0.0,>=1.7.2 (from alpaca-py)\n",
      "  Obtaining dependency information for sseclient-py<2.0.0,>=1.7.2 from https://files.pythonhosted.org/packages/49/58/97655efdfeb5b4eeab85b1fc5d3fa1023661246c2ab2a26ea8e47402d4f2/sseclient_py-1.8.0-py2.py3-none-any.whl.metadata\n",
      "  Downloading sseclient_py-1.8.0-py2.py3-none-any.whl.metadata (2.0 kB)\n",
      "Collecting websockets>=10.4 (from alpaca-py)\n",
      "  Obtaining dependency information for websockets>=10.4 from https://files.pythonhosted.org/packages/bc/ef/2d81679acbe7057ffe2308d422f744497b52009ea8bab34b6d74a2657d1d/websockets-14.1-cp311-cp311-win_amd64.whl.metadata\n",
      "  Downloading websockets-14.1-cp311-cp311-win_amd64.whl.metadata (6.9 kB)\n",
      "Requirement already satisfied: charset-normalizer<4,>=2 in c:\\users\\usith\\anaconda3\\lib\\site-packages (from requests) (2.0.4)\n",
      "Requirement already satisfied: idna<4,>=2.5 in c:\\users\\usith\\anaconda3\\lib\\site-packages (from requests) (3.7)\n",
      "Requirement already satisfied: urllib3<3,>=1.21.1 in c:\\users\\usith\\anaconda3\\lib\\site-packages (from requests) (2.2.1)\n",
      "Requirement already satisfied: certifi>=2017.4.17 in c:\\users\\usith\\anaconda3\\lib\\site-packages (from requests) (2024.8.30)\n",
      "Requirement already satisfied: numpy<2,>=1.23.2 in c:\\users\\usith\\anaconda3\\lib\\site-packages (from pandas>=1.5.3->alpaca-py) (1.26.4)\n",
      "Requirement already satisfied: python-dateutil>=2.8.2 in c:\\users\\usith\\anaconda3\\lib\\site-packages (from pandas>=1.5.3->alpaca-py) (2.8.2)\n",
      "Requirement already satisfied: pytz>=2020.1 in c:\\users\\usith\\anaconda3\\lib\\site-packages (from pandas>=1.5.3->alpaca-py) (2024.1)\n",
      "Requirement already satisfied: tzdata>=2022.7 in c:\\users\\usith\\anaconda3\\lib\\site-packages (from pandas>=1.5.3->alpaca-py) (2023.3)\n",
      "Collecting annotated-types>=0.6.0 (from pydantic<3.0.0,>=2.0.3->alpaca-py)\n",
      "  Obtaining dependency information for annotated-types>=0.6.0 from https://files.pythonhosted.org/packages/78/b6/6307fbef88d9b5ee7421e68d78a9f162e0da4900bc5f5793f6d3d0e34fb8/annotated_types-0.7.0-py3-none-any.whl.metadata\n",
      "  Downloading annotated_types-0.7.0-py3-none-any.whl.metadata (15 kB)\n",
      "Collecting pydantic-core==2.27.2 (from pydantic<3.0.0,>=2.0.3->alpaca-py)\n",
      "  Obtaining dependency information for pydantic-core==2.27.2 from https://files.pythonhosted.org/packages/e8/ef/013f07248041b74abd48a385e2110aa3a9bbfef0fbd97d4e6d07d2f5b89a/pydantic_core-2.27.2-cp311-cp311-win_amd64.whl.metadata\n",
      "  Downloading pydantic_core-2.27.2-cp311-cp311-win_amd64.whl.metadata (6.7 kB)\n",
      "Collecting typing-extensions>=4.12.2 (from pydantic<3.0.0,>=2.0.3->alpaca-py)\n",
      "  Obtaining dependency information for typing-extensions>=4.12.2 from https://files.pythonhosted.org/packages/26/9f/ad63fc0248c5379346306f8668cda6e2e2e9c95e01216d2b8ffd9ff037d0/typing_extensions-4.12.2-py3-none-any.whl.metadata\n",
      "  Downloading typing_extensions-4.12.2-py3-none-any.whl.metadata (3.0 kB)\n",
      "Requirement already satisfied: six>=1.5 in c:\\users\\usith\\anaconda3\\lib\\site-packages (from python-dateutil>=2.8.2->pandas>=1.5.3->alpaca-py) (1.16.0)\n",
      "Downloading alpaca_py-0.35.1-py3-none-any.whl (120 kB)\n",
      "   ---------------------------------------- 0.0/120.4 kB ? eta -:--:--\n",
      "   -------------------- ------------------- 61.4/120.4 kB 1.6 MB/s eta 0:00:01\n",
      "   ---------------------------------------- 120.4/120.4 kB 1.4 MB/s eta 0:00:00\n",
      "Downloading pydantic-2.10.5-py3-none-any.whl (431 kB)\n",
      "   ---------------------------------------- 0.0/431.4 kB ? eta -:--:--\n",
      "   ------ --------------------------------- 71.7/431.4 kB 3.8 MB/s eta 0:00:01\n",
      "   ---------------- ----------------------- 174.1/431.4 kB 2.6 MB/s eta 0:00:01\n",
      "   --------------------- ------------------ 235.5/431.4 kB 2.1 MB/s eta 0:00:01\n",
      "   -------------------------------- ------- 348.2/431.4 kB 2.2 MB/s eta 0:00:01\n",
      "   ---------------------------------------- 431.4/431.4 kB 2.1 MB/s eta 0:00:00\n",
      "Downloading pydantic_core-2.27.2-cp311-cp311-win_amd64.whl (2.0 MB)\n",
      "   ---------------------------------------- 0.0/2.0 MB ? eta -:--:--\n",
      "   - -------------------------------------- 0.1/2.0 MB 2.0 MB/s eta 0:00:01\n",
      "   --- ------------------------------------ 0.2/2.0 MB 2.1 MB/s eta 0:00:01\n",
      "   ----- ---------------------------------- 0.3/2.0 MB 2.1 MB/s eta 0:00:01\n",
      "   ------- -------------------------------- 0.4/2.0 MB 2.1 MB/s eta 0:00:01\n",
      "   --------- ------------------------------ 0.5/2.0 MB 2.2 MB/s eta 0:00:01\n",
      "   ----------- ---------------------------- 0.6/2.0 MB 2.1 MB/s eta 0:00:01\n",
      "   ------------- -------------------------- 0.7/2.0 MB 2.1 MB/s eta 0:00:01\n",
      "   --------------- ------------------------ 0.8/2.0 MB 2.1 MB/s eta 0:00:01\n",
      "   ----------------- ---------------------- 0.9/2.0 MB 2.1 MB/s eta 0:00:01\n",
      "   -------------------- ------------------- 1.0/2.0 MB 2.2 MB/s eta 0:00:01\n",
      "   --------------------- ------------------ 1.1/2.0 MB 2.2 MB/s eta 0:00:01\n",
      "   ----------------------- ---------------- 1.2/2.0 MB 2.2 MB/s eta 0:00:01\n",
      "   -------------------------- ------------- 1.3/2.0 MB 2.2 MB/s eta 0:00:01\n",
      "   --------------------------- ------------ 1.4/2.0 MB 2.1 MB/s eta 0:00:01\n",
      "   ----------------------------- ---------- 1.5/2.0 MB 2.1 MB/s eta 0:00:01\n",
      "   -------------------------------- ------- 1.6/2.0 MB 2.2 MB/s eta 0:00:01\n",
      "   ---------------------------------- ----- 1.7/2.0 MB 2.2 MB/s eta 0:00:01\n",
      "   ------------------------------------ --- 1.8/2.0 MB 2.2 MB/s eta 0:00:01\n",
      "   ------------------------------------- -- 1.9/2.0 MB 2.2 MB/s eta 0:00:01\n",
      "   ---------------------------------------  2.0/2.0 MB 2.2 MB/s eta 0:00:01\n",
      "   ---------------------------------------- 2.0/2.0 MB 2.2 MB/s eta 0:00:00\n",
      "Downloading sseclient_py-1.8.0-py2.py3-none-any.whl (8.8 kB)\n",
      "Downloading websockets-14.1-cp311-cp311-win_amd64.whl (163 kB)\n",
      "   ---------------------------------------- 0.0/163.3 kB ? eta -:--:--\n",
      "   ---------------------- ----------------- 92.2/163.3 kB 1.8 MB/s eta 0:00:01\n",
      "   ---------------------------------------- 163.3/163.3 kB 2.0 MB/s eta 0:00:00\n",
      "Downloading annotated_types-0.7.0-py3-none-any.whl (13 kB)\n",
      "Downloading typing_extensions-4.12.2-py3-none-any.whl (37 kB)\n",
      "Installing collected packages: sseclient-py, websockets, typing-extensions, annotated-types, pydantic-core, pydantic, alpaca-py\n",
      "  Attempting uninstall: typing-extensions\n",
      "    Found existing installation: typing_extensions 4.11.0\n",
      "    Uninstalling typing_extensions-4.11.0:\n",
      "      Successfully uninstalled typing_extensions-4.11.0\n",
      "  Attempting uninstall: pydantic\n",
      "    Found existing installation: pydantic 1.10.12\n",
      "    Uninstalling pydantic-1.10.12:\n",
      "      Successfully uninstalled pydantic-1.10.12\n",
      "Successfully installed alpaca-py-0.35.1 annotated-types-0.7.0 pydantic-2.10.5 pydantic-core-2.27.2 sseclient-py-1.8.0 typing-extensions-4.12.2 websockets-14.1\n"
     ]
    }
   ],
   "source": [
    "!pip install alpaca-py requests"
   ]
  },
  {
   "cell_type": "markdown",
   "metadata": {},
   "source": [
    "# Authentication and Connecting to Alpaca’s Trading API"
   ]
  },
  {
   "cell_type": "code",
   "execution_count": 2,
   "metadata": {},
   "outputs": [],
   "source": [
    "import requests\n",
    "from alpaca.trading.client import TradingClient\n",
    "from alpaca.trading.requests import MarketOrderRequest\n",
    "from alpaca.trading.enums import OrderSide, TimeInForce"
   ]
  },
  {
   "cell_type": "code",
   "execution_count": 3,
   "metadata": {},
   "outputs": [],
   "source": [
    "import os\n",
    "from dotenv import load_dotenv\n",
    "\n",
    "load_dotenv()\n",
    "\n",
    "ALPACA_API_KEY_ID = os.getenv('ALPACA_API_KEY_ID')\n",
    "ALPACA_API_SECRET_KEY = os.getenv('ALPACA_API_SECRET_KEY')"
   ]
  },
  {
   "cell_type": "code",
   "execution_count": 4,
   "metadata": {},
   "outputs": [],
   "source": [
    "trading_client = TradingClient(ALPACA_API_KEY_ID, ALPACA_API_SECRET_KEY, paper=True)"
   ]
  },
  {
   "cell_type": "code",
   "execution_count": 6,
   "metadata": {},
   "outputs": [
    {
     "name": "stdout",
     "output_type": "stream",
     "text": [
      "{\"id\":\"d5240e56-8a6b-4ece-bbf1-1cf0fbbfbfd8\",\"admin_configurations\":{},\"user_configurations\":null,\"account_number\":\"PA3XHWVLV9KY\",\"status\":\"ACTIVE\",\"crypto_status\":\"ACTIVE\",\"options_approved_level\":3,\"options_trading_level\":3,\"currency\":\"USD\",\"buying_power\":\"200000\",\"regt_buying_power\":\"200000\",\"daytrading_buying_power\":\"0\",\"effective_buying_power\":\"200000\",\"non_marginable_buying_power\":\"100000\",\"options_buying_power\":\"100000\",\"bod_dtbp\":\"0\",\"cash\":\"100000\",\"accrued_fees\":\"0\",\"portfolio_value\":\"100000\",\"pattern_day_trader\":false,\"trading_blocked\":false,\"transfers_blocked\":false,\"account_blocked\":false,\"created_at\":\"2025-01-17T07:12:19.087835Z\",\"trade_suspended_by_user\":false,\"multiplier\":\"2\",\"shorting_enabled\":true,\"equity\":\"100000\",\"last_equity\":\"100000\",\"long_market_value\":\"0\",\"short_market_value\":\"0\",\"position_market_value\":\"0\",\"initial_margin\":\"0\",\"maintenance_margin\":\"0\",\"last_maintenance_margin\":\"0\",\"sma\":\"0\",\"daytrade_count\":0,\"balance_asof\":\"2025-01-17\",\"crypto_tier\":1,\"intraday_adjustments\":\"0\",\"pending_reg_taf_fees\":\"0\"}\n"
     ]
    }
   ],
   "source": [
    "url = \"https://paper-api.alpaca.markets/v2/account\"\n",
    "headers = {\n",
    "    \"accept\": \"application/json\",\n",
    "    \"APCA-API-KEY-ID\": ALPACA_API_KEY_ID,\n",
    "    \"APCA-API-SECRET-KEY\": ALPACA_API_SECRET_KEY\n",
    "}\n",
    "response = requests.get(url, headers=headers)\n",
    "print(response.text)"
   ]
  },
  {
   "cell_type": "markdown",
   "metadata": {},
   "source": [
    "# Placing Paper Trades"
   ]
  },
  {
   "cell_type": "code",
   "execution_count": 8,
   "metadata": {},
   "outputs": [],
   "source": [
    "order_symbol = \"AAPL\"     # 'META', 'AAPL', 'MSFT', 'AMZN', 'GOOG'\n",
    "order_quantity = 1        #no.of shares\n",
    "order_side = OrderSide.BUY    # OrderSide.BUY / OrderSide.SELL\n",
    "order_time_in_force = TimeInForce.DAY"
   ]
  },
  {
   "cell_type": "markdown",
   "metadata": {},
   "source": [
    "class TimeInForce(str, Enum):\n",
    "    \"\"\"\n",
    "    Represents the various time in force options for an Order.\n",
    "\n",
    "    The Time-In-Force values supported by Alpaca vary based on the order's security type. Here is a breakdown of the supported TIFs for each specific security type:\n",
    "    - Equity trading: day, gtc, opg, cls, ioc, fok.\n",
    "    - Options trading: day.\n",
    "    - Crypto trading: gtc, ioc.\n",
    "    Below are the descriptions of each TIF:\n",
    "    - day: A day order is eligible for execution only on the day it is live. By default, the order is only valid during Regular Trading Hours (9:30am - 4:00pm ET). If unfilled after the closing auction, it is automatically canceled. If submitted after the close, it is queued and submitted the following trading day. However, if marked as eligible for extended hours, the order can also execute during supported extended hours.\n",
    "    - gtc: The order is good until canceled. Non-marketable GTC limit orders are subject to price adjustments to offset corporate actions affecting the issue. We do not currently support Do Not Reduce(DNR) orders to opt out of such price adjustments.\n",
    "    - opg: Use this TIF with a market/limit order type to submit “market on open” (MOO) and “limit on open” (LOO) orders. This order is eligible to execute only in the market opening auction. Any unfilled orders after the open will be cancelled. OPG orders submitted after 9:28am but before 7:00pm ET will be rejected. OPG orders submitted after 7:00pm will be queued and routed to the following day’s opening auction. On open/on close orders are routed to the primary exchange. Such orders do not necessarily execute exactly at 9:30am / 4:00pm ET but execute per the exchange’s auction rules.\n",
    "    - cls: Use this TIF with a market/limit order type to submit “market on close” (MOC) and “limit on close” (LOC) orders. This order is eligible to execute only in the market closing auction. Any unfilled orders after the close will be cancelled. CLS orders submitted after 3:50pm but before 7:00pm ET will be rejected. CLS orders submitted after 7:00pm will be queued and routed to the following day’s closing auction. Only available with API v2.\n",
    "    - ioc: An Immediate Or Cancel (IOC) order requires all or part of the order to be executed immediately. Any unfilled portion of the order is canceled. Only available with API v2. Most market makers who receive IOC orders will attempt to fill the order on a principal basis only, and cancel any unfilled balance. On occasion, this can result in the entire order being cancelled if the market maker does not have any existing inventory of the security in question.\n",
    "    - fok: A Fill or Kill (FOK) order is only executed if the entire order quantity can be filled, otherwise the order is canceled. Only available with API v2.\n",
    "    \"\"\"\n",
    "\n",
    "    DAY = \"day\"\n",
    "    GTC = \"gtc\"\n",
    "    OPG = \"opg\"\n",
    "    CLS = \"cls\"\n",
    "    IOC = \"ioc\"\n",
    "    FOK = \"fok\""
   ]
  },
  {
   "cell_type": "code",
   "execution_count": 9,
   "metadata": {},
   "outputs": [],
   "source": [
    "# preparing market order\n",
    "market_order_data = MarketOrderRequest(\n",
    "                    symbol=order_symbol,\n",
    "                    qty=order_quantity,\n",
    "                    side=order_side,\n",
    "                    time_in_force=order_time_in_force\n",
    "                    )\n",
    "\n",
    "# Market order\n",
    "market_order = trading_client.submit_order(\n",
    "                order_data=market_order_data\n",
    "               )"
   ]
  },
  {
   "cell_type": "code",
   "execution_count": null,
   "metadata": {},
   "outputs": [
    {
     "name": "stdout",
     "output_type": "stream",
     "text": [
      "1 shares of AAPL\n"
     ]
    }
   ],
   "source": [
    "# Get a list of all of our orders.\n",
    "portfolio = trading_client.get_orders()\n",
    "\n",
    "# Print the quantity of shares for each order.\n",
    "for position in portfolio:\n",
    "    print(\"{} shares of {}\".format(position.qty, position.symbol))"
   ]
  }
 ],
 "metadata": {
  "kernelspec": {
   "display_name": "base",
   "language": "python",
   "name": "python3"
  },
  "language_info": {
   "codemirror_mode": {
    "name": "ipython",
    "version": 3
   },
   "file_extension": ".py",
   "mimetype": "text/x-python",
   "name": "python",
   "nbconvert_exporter": "python",
   "pygments_lexer": "ipython3",
   "version": "3.11.5"
  }
 },
 "nbformat": 4,
 "nbformat_minor": 2
}
