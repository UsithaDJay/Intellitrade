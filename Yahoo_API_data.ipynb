{
 "cells": [
  {
   "cell_type": "code",
   "execution_count": 1,
   "metadata": {},
   "outputs": [
    {
     "name": "stdout",
     "output_type": "stream",
     "text": [
      "Collecting yfinance\n",
      "  Downloading yfinance-0.2.52-py2.py3-none-any.whl.metadata (5.8 kB)\n",
      "Requirement already satisfied: pandas>=1.3.0 in g:\\anaconda\\installation\\lib\\site-packages (from yfinance) (2.2.2)\n",
      "Requirement already satisfied: numpy>=1.16.5 in g:\\anaconda\\installation\\lib\\site-packages (from yfinance) (1.26.4)\n",
      "Requirement already satisfied: requests>=2.31 in g:\\anaconda\\installation\\lib\\site-packages (from yfinance) (2.32.2)\n",
      "Collecting multitasking>=0.0.7 (from yfinance)\n",
      "  Downloading multitasking-0.0.11-py3-none-any.whl.metadata (5.5 kB)\n",
      "Requirement already satisfied: lxml>=4.9.1 in g:\\anaconda\\installation\\lib\\site-packages (from yfinance) (5.2.1)\n",
      "Requirement already satisfied: platformdirs>=2.0.0 in g:\\anaconda\\installation\\lib\\site-packages (from yfinance) (3.10.0)\n",
      "Requirement already satisfied: pytz>=2022.5 in g:\\anaconda\\installation\\lib\\site-packages (from yfinance) (2024.1)\n",
      "Requirement already satisfied: frozendict>=2.3.4 in g:\\anaconda\\installation\\lib\\site-packages (from yfinance) (2.4.2)\n",
      "Collecting peewee>=3.16.2 (from yfinance)\n",
      "  Downloading peewee-3.17.8.tar.gz (948 kB)\n",
      "     ---------------------------------------- 0.0/948.2 kB ? eta -:--:--\n",
      "     ---------------------------------------- 0.0/948.2 kB ? eta -:--:--\n",
      "     - -------------------------------------- 30.7/948.2 kB ? eta -:--:--\n",
      "     - ----------------------------------- 41.0/948.2 kB 667.8 kB/s eta 0:00:02\n",
      "     ---- --------------------------------- 122.9/948.2 kB 1.0 MB/s eta 0:00:01\n",
      "     ----- ------------------------------ 153.6/948.2 kB 919.0 kB/s eta 0:00:01\n",
      "     ---------- --------------------------- 256.0/948.2 kB 1.2 MB/s eta 0:00:01\n",
      "     ------------- ------------------------ 348.2/948.2 kB 1.6 MB/s eta 0:00:01\n",
      "     ------------- ------------------------ 348.2/948.2 kB 1.6 MB/s eta 0:00:01\n",
      "     ------------------------ ------------- 614.4/948.2 kB 1.8 MB/s eta 0:00:01\n",
      "     ------------------------ ------------- 614.4/948.2 kB 1.8 MB/s eta 0:00:01\n",
      "     -------------------------------- ----- 809.0/948.2 kB 1.8 MB/s eta 0:00:01\n",
      "     ----------------------------------- -- 890.9/948.2 kB 1.9 MB/s eta 0:00:01\n",
      "     -------------------------------------- 948.2/948.2 kB 1.8 MB/s eta 0:00:00\n",
      "  Installing build dependencies: started\n",
      "  Installing build dependencies: finished with status 'done'\n",
      "  Getting requirements to build wheel: started\n",
      "  Getting requirements to build wheel: finished with status 'done'\n",
      "  Preparing metadata (pyproject.toml): started\n",
      "  Preparing metadata (pyproject.toml): finished with status 'done'\n",
      "Requirement already satisfied: beautifulsoup4>=4.11.1 in g:\\anaconda\\installation\\lib\\site-packages (from yfinance) (4.12.3)\n",
      "Collecting html5lib>=1.1 (from yfinance)\n",
      "  Downloading html5lib-1.1-py2.py3-none-any.whl.metadata (16 kB)\n",
      "Requirement already satisfied: soupsieve>1.2 in g:\\anaconda\\installation\\lib\\site-packages (from beautifulsoup4>=4.11.1->yfinance) (2.5)\n",
      "Requirement already satisfied: six>=1.9 in g:\\anaconda\\installation\\lib\\site-packages (from html5lib>=1.1->yfinance) (1.16.0)\n",
      "Requirement already satisfied: webencodings in g:\\anaconda\\installation\\lib\\site-packages (from html5lib>=1.1->yfinance) (0.5.1)\n",
      "Requirement already satisfied: python-dateutil>=2.8.2 in g:\\anaconda\\installation\\lib\\site-packages (from pandas>=1.3.0->yfinance) (2.9.0.post0)\n",
      "Requirement already satisfied: tzdata>=2022.7 in g:\\anaconda\\installation\\lib\\site-packages (from pandas>=1.3.0->yfinance) (2023.3)\n",
      "Requirement already satisfied: charset-normalizer<4,>=2 in g:\\anaconda\\installation\\lib\\site-packages (from requests>=2.31->yfinance) (2.0.4)\n",
      "Requirement already satisfied: idna<4,>=2.5 in g:\\anaconda\\installation\\lib\\site-packages (from requests>=2.31->yfinance) (3.4)\n",
      "Requirement already satisfied: urllib3<3,>=1.21.1 in g:\\anaconda\\installation\\lib\\site-packages (from requests>=2.31->yfinance) (2.2.2)\n",
      "Requirement already satisfied: certifi>=2017.4.17 in g:\\anaconda\\installation\\lib\\site-packages (from requests>=2.31->yfinance) (2024.8.30)\n",
      "Downloading yfinance-0.2.52-py2.py3-none-any.whl (108 kB)\n",
      "   ---------------------------------------- 0.0/108.5 kB ? eta -:--:--\n",
      "   --------------------------------- ------ 92.2/108.5 kB 5.5 MB/s eta 0:00:01\n",
      "   ---------------------------------------- 108.5/108.5 kB 1.3 MB/s eta 0:00:00\n",
      "Downloading html5lib-1.1-py2.py3-none-any.whl (112 kB)\n",
      "   ---------------------------------------- 0.0/112.2 kB ? eta -:--:--\n",
      "   ---------- ----------------------------- 30.7/112.2 kB ? eta -:--:--\n",
      "   ---------------------------------------- 112.2/112.2 kB 1.6 MB/s eta 0:00:00\n",
      "Downloading multitasking-0.0.11-py3-none-any.whl (8.5 kB)\n",
      "Building wheels for collected packages: peewee\n",
      "  Building wheel for peewee (pyproject.toml): started\n",
      "  Building wheel for peewee (pyproject.toml): finished with status 'done'\n",
      "  Created wheel for peewee: filename=peewee-3.17.8-py3-none-any.whl size=139064 sha256=1ad242e102b3fb3be644d3a09f56c1bf7c17b82b35d5a0eebf296565acdadade\n",
      "  Stored in directory: c:\\users\\savindurajapaksha\\appdata\\local\\pip\\cache\\wheels\\8f\\65\\34\\456800445efeafb05164fe95285c70e81ba1d96bae30f43917\n",
      "Successfully built peewee\n",
      "Installing collected packages: peewee, multitasking, html5lib, yfinance\n",
      "Successfully installed html5lib-1.1 multitasking-0.0.11 peewee-3.17.8 yfinance-0.2.52\n",
      "Note: you may need to restart the kernel to use updated packages.\n"
     ]
    }
   ],
   "source": [
    "%pip install yfinance"
   ]
  },
  {
   "cell_type": "code",
   "execution_count": 9,
   "metadata": {},
   "outputs": [
    {
     "name": "stdout",
     "output_type": "stream",
     "text": [
      "e:\\CampusAcedemics2\\SEM7\\FYP\\Intellitrade\n"
     ]
    }
   ],
   "source": [
    "import os\n",
    "import datetime\n",
    "import yfinance as yf\n",
    "import pandas as pd\n",
    "\n",
    "# data interval\n",
    "interval = \"1d\" #1m, 2m, 5m, 15m, 60m, 90m, 1h, 1d, 5d, 1wk, 1mo, 3mo\n",
    "# period ='1mo'\n",
    "\n",
    "# limits\n",
    "# 1m --> 8 days\n",
    "# 2m, 5m, 15m, 90m  --> 60 days\n",
    "# 60m, 1h, --> 730 days\n",
    "# 1d, 5d, 1wk, 1mo, 3mo --> no limit\n",
    "\n",
    "# start & end date\n",
    "end_date = datetime.datetime(2020, 1, 1)\n",
    "start_date = datetime.datetime(2019, 1, 1)\n",
    "\n",
    "\n",
    "# Raw data root\n",
    "raw_data_root = os.getcwd()\n",
    "print(raw_data_root)\n",
    "save_path = os.path.join(raw_data_root, \"New_data_2\")\n",
    "\n",
    "if not os.path.exists(save_path):\n",
    "    os.makedirs(save_path)\n",
    "\n",
    "# Inclede or Exclude pre/post market data\n",
    "prepost = False # True / False\n",
    "\n",
    "#  symbols\n",
    "# Tickers of interest\n",
    "symbols = [\n",
    "    \"AAPL\", \"AMZN\", \"JNJ\", \"SQ\", \"TWLO\", \"VOO\", \"JPM\", \"T\", \"DIS\", \"MSFT\",\n",
    "    \"AYX\", \"CRM\", \"SHOP\", \"VTI\", \"V\", \"GOOG\", \"BA\", \"BRK\", \"KO\", \"MA\", \"ABBV\", \"BABA\", \"BAC\"\n",
    "]\n",
    "# symbols = [\"NFLX\", \"META\", \"AMZN\", \"AAPL\", \"GOOG\", \"MSFT\"]"
   ]
  },
  {
   "cell_type": "code",
   "execution_count": 10,
   "metadata": {},
   "outputs": [
    {
     "name": "stderr",
     "output_type": "stream",
     "text": [
      "[*********************100%***********************]  1 of 1 completed\n",
      "[*********************100%***********************]  1 of 1 completed\n",
      "[*********************100%***********************]  1 of 1 completed\n",
      "[*********************100%***********************]  1 of 1 completed\n",
      "[*********************100%***********************]  1 of 1 completed\n",
      "[*********************100%***********************]  1 of 1 completed\n",
      "[*********************100%***********************]  1 of 1 completed\n",
      "[*********************100%***********************]  1 of 1 completed\n",
      "[*********************100%***********************]  1 of 1 completed\n",
      "[*********************100%***********************]  1 of 1 completed\n",
      "[*********************100%***********************]  1 of 1 completed\n",
      "\n",
      "1 Failed download:\n",
      "['AYX']: YFTzMissingError('$%ticker%: possibly delisted; no timezone found')\n",
      "[*********************100%***********************]  1 of 1 completed\n",
      "[*********************100%***********************]  1 of 1 completed\n",
      "[*********************100%***********************]  1 of 1 completed\n",
      "[*********************100%***********************]  1 of 1 completed\n",
      "[*********************100%***********************]  1 of 1 completed\n",
      "[*********************100%***********************]  1 of 1 completed\n",
      "[*********************100%***********************]  1 of 1 completed\n",
      "[*********************100%***********************]  1 of 1 completed\n",
      "[*********************100%***********************]  1 of 1 completed\n",
      "[*********************100%***********************]  1 of 1 completed\n",
      "[*********************100%***********************]  1 of 1 completed\n",
      "[*********************100%***********************]  1 of 1 completed\n"
     ]
    }
   ],
   "source": [
    "# collect data\n",
    "for symbol in symbols:\n",
    "  data = yf.download(symbol, start=start_date, end=end_date, interval=interval, prepost=prepost)\n",
    "  # data.index = data.index.tz_convert(None)\n",
    "\n",
    "  # Save the DataFrame to the specified path\n",
    "  df = pd.DataFrame(data)\n",
    "  fileName = symbol + '_OHVLC_' + interval + '_prepost_' + str(prepost) +'.csv'\n",
    "  raw_file_path =  os.path.join(save_path, fileName)\n",
    "  df.to_csv(raw_file_path)"
   ]
  }
 ],
 "metadata": {
  "kernelspec": {
   "display_name": "base",
   "language": "python",
   "name": "python3"
  },
  "language_info": {
   "codemirror_mode": {
    "name": "ipython",
    "version": 3
   },
   "file_extension": ".py",
   "mimetype": "text/x-python",
   "name": "python",
   "nbconvert_exporter": "python",
   "pygments_lexer": "ipython3",
   "version": "3.11.5"
  }
 },
 "nbformat": 4,
 "nbformat_minor": 2
}
